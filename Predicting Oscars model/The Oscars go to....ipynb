{
 "cells": [
  {
   "cell_type": "markdown",
   "metadata": {},
   "source": [
    "<div style=\"text-align: left\">Dino Konstantopoulos lectures and with material from Will Koehrsen!</div>\n",
    "   \n",
    "Help from -->  [Will Koehrsen](https://github.com/WillKoehrsen)\n",
    "  \n",
    "| Own Code Lines | External Code Lines | Accuracy |\n",
    "| --- | --- | --- |\n",
    "| 400| 80 | .94 |\n",
    "\t\n",
    " "
   ]
  },
  {
   "cell_type": "markdown",
   "metadata": {},
   "source": [
    "# And the Oscar goes to ....\n",
    "\n",
    "This is a great supervised learning problem: we’ve got a nice set of data with information (training data) that we suspect will help us predict who will win this year. This is called classification, since there are only two options for each datapoint: win or not win.\n",
    "Now the problem is, we don’t know the important trends and relationships within our training data. Our goal is to come up with a program that models these relationships, so we can just input The Green Book and get back win.\n",
    "\n",
    "Alright. \n",
    "</br>\n",
    "<center>\n",
    "    <img src =oscars.1.jpg width = 400 />\n",
    "    *Tadaaaa...*\n",
    "</center>\n",
    "\n",
    "Let’s start simple:"
   ]
  },
  {
   "cell_type": "code",
   "execution_count": 1,
   "metadata": {
    "hideCode": false,
    "hidePrompt": false,
    "scrolled": true
   },
   "outputs": [],
   "source": [
    "import numpy as np\n",
    "import pandas as pd\n",
    "import matplotlib.pyplot as plt\n",
    "from sklearn import tree\n",
    "from sklearn.ensemble import RandomForestClassifier"
   ]
  },
  {
   "cell_type": "markdown",
   "metadata": {},
   "source": [
    "## 1. Reading the dataset and Identify the anomalies"
   ]
  },
  {
   "cell_type": "code",
   "execution_count": 2,
   "metadata": {},
   "outputs": [
    {
     "data": {
      "text/html": [
       "<div>\n",
       "<style scoped>\n",
       "    .dataframe tbody tr th:only-of-type {\n",
       "        vertical-align: middle;\n",
       "    }\n",
       "\n",
       "    .dataframe tbody tr th {\n",
       "        vertical-align: top;\n",
       "    }\n",
       "\n",
       "    .dataframe thead th {\n",
       "        text-align: right;\n",
       "    }\n",
       "</style>\n",
       "<table border=\"1\" class=\"dataframe\">\n",
       "  <thead>\n",
       "    <tr style=\"text-align: right;\">\n",
       "      <th></th>\n",
       "      <th>year</th>\n",
       "      <th>category</th>\n",
       "      <th>title</th>\n",
       "      <th>genres</th>\n",
       "      <th>MovieLensrating</th>\n",
       "      <th>runtimeMinutes</th>\n",
       "      <th>IMDBRating</th>\n",
       "      <th>imdb_numVotes</th>\n",
       "      <th>RottenCriticRating</th>\n",
       "      <th>rottencritic_numVotes</th>\n",
       "      <th>RottenRating</th>\n",
       "      <th>rotten_numVotes</th>\n",
       "      <th>won_bafta</th>\n",
       "      <th>won_sa</th>\n",
       "      <th>won_sag</th>\n",
       "      <th>won_cc</th>\n",
       "      <th>won_dga</th>\n",
       "      <th>won_nbra</th>\n",
       "      <th>won_oscar</th>\n",
       "    </tr>\n",
       "  </thead>\n",
       "  <tbody>\n",
       "    <tr>\n",
       "      <th>0</th>\n",
       "      <td>1944</td>\n",
       "      <td>BEST PICTURE</td>\n",
       "      <td>Double Indemnity</td>\n",
       "      <td>Crime|Drama|Film-Noir</td>\n",
       "      <td>4.20</td>\n",
       "      <td>107</td>\n",
       "      <td>8.3</td>\n",
       "      <td>125662</td>\n",
       "      <td>96</td>\n",
       "      <td>57</td>\n",
       "      <td>95</td>\n",
       "      <td>35629</td>\n",
       "      <td>0</td>\n",
       "      <td>0</td>\n",
       "      <td>0</td>\n",
       "      <td>0</td>\n",
       "      <td>0</td>\n",
       "      <td>0</td>\n",
       "      <td>0</td>\n",
       "    </tr>\n",
       "    <tr>\n",
       "      <th>1</th>\n",
       "      <td>1944</td>\n",
       "      <td>BEST PICTURE</td>\n",
       "      <td>Gaslight</td>\n",
       "      <td>Drama|Thriller</td>\n",
       "      <td>4.03</td>\n",
       "      <td>114</td>\n",
       "      <td>7.8</td>\n",
       "      <td>20733</td>\n",
       "      <td>86</td>\n",
       "      <td>28</td>\n",
       "      <td>90</td>\n",
       "      <td>8460</td>\n",
       "      <td>0</td>\n",
       "      <td>0</td>\n",
       "      <td>0</td>\n",
       "      <td>0</td>\n",
       "      <td>0</td>\n",
       "      <td>0</td>\n",
       "      <td>0</td>\n",
       "    </tr>\n",
       "    <tr>\n",
       "      <th>2</th>\n",
       "      <td>1944</td>\n",
       "      <td>BEST PICTURE</td>\n",
       "      <td>Going My Way</td>\n",
       "      <td>Comedy|Drama|Musical</td>\n",
       "      <td>3.56</td>\n",
       "      <td>126</td>\n",
       "      <td>7.2</td>\n",
       "      <td>9228</td>\n",
       "      <td>79</td>\n",
       "      <td>24</td>\n",
       "      <td>76</td>\n",
       "      <td>5748</td>\n",
       "      <td>0</td>\n",
       "      <td>0</td>\n",
       "      <td>0</td>\n",
       "      <td>0</td>\n",
       "      <td>0</td>\n",
       "      <td>0</td>\n",
       "      <td>1</td>\n",
       "    </tr>\n",
       "    <tr>\n",
       "      <th>3</th>\n",
       "      <td>1944</td>\n",
       "      <td>BEST PICTURE</td>\n",
       "      <td>Since You Went Away</td>\n",
       "      <td>Drama|War</td>\n",
       "      <td>3.65</td>\n",
       "      <td>177</td>\n",
       "      <td>7.6</td>\n",
       "      <td>3879</td>\n",
       "      <td>80</td>\n",
       "      <td>10</td>\n",
       "      <td>82</td>\n",
       "      <td>1305</td>\n",
       "      <td>0</td>\n",
       "      <td>0</td>\n",
       "      <td>0</td>\n",
       "      <td>0</td>\n",
       "      <td>0</td>\n",
       "      <td>0</td>\n",
       "      <td>0</td>\n",
       "    </tr>\n",
       "    <tr>\n",
       "      <th>4</th>\n",
       "      <td>1944</td>\n",
       "      <td>BEST PICTURE</td>\n",
       "      <td>Wilson</td>\n",
       "      <td>Drama</td>\n",
       "      <td>3.21</td>\n",
       "      <td>154</td>\n",
       "      <td>6.8</td>\n",
       "      <td>1314</td>\n",
       "      <td>88</td>\n",
       "      <td>8</td>\n",
       "      <td>41</td>\n",
       "      <td>363</td>\n",
       "      <td>0</td>\n",
       "      <td>0</td>\n",
       "      <td>0</td>\n",
       "      <td>0</td>\n",
       "      <td>0</td>\n",
       "      <td>0</td>\n",
       "      <td>0</td>\n",
       "    </tr>\n",
       "  </tbody>\n",
       "</table>\n",
       "</div>"
      ],
      "text/plain": [
       "   year      category                title                 genres  \\\n",
       "0  1944  BEST PICTURE     Double Indemnity  Crime|Drama|Film-Noir   \n",
       "1  1944  BEST PICTURE             Gaslight         Drama|Thriller   \n",
       "2  1944  BEST PICTURE         Going My Way   Comedy|Drama|Musical   \n",
       "3  1944  BEST PICTURE  Since You Went Away              Drama|War   \n",
       "4  1944  BEST PICTURE               Wilson                  Drama   \n",
       "\n",
       "   MovieLensrating  runtimeMinutes  IMDBRating  imdb_numVotes  \\\n",
       "0             4.20             107         8.3         125662   \n",
       "1             4.03             114         7.8          20733   \n",
       "2             3.56             126         7.2           9228   \n",
       "3             3.65             177         7.6           3879   \n",
       "4             3.21             154         6.8           1314   \n",
       "\n",
       "   RottenCriticRating  rottencritic_numVotes  RottenRating  rotten_numVotes  \\\n",
       "0                  96                     57            95            35629   \n",
       "1                  86                     28            90             8460   \n",
       "2                  79                     24            76             5748   \n",
       "3                  80                     10            82             1305   \n",
       "4                  88                      8            41              363   \n",
       "\n",
       "   won_bafta  won_sa  won_sag  won_cc  won_dga  won_nbra  won_oscar  \n",
       "0          0       0        0       0        0         0          0  \n",
       "1          0       0        0       0        0         0          0  \n",
       "2          0       0        0       0        0         0          1  \n",
       "3          0       0        0       0        0         0          0  \n",
       "4          0       0        0       0        0         0          0  "
      ]
     },
     "execution_count": 2,
     "metadata": {},
     "output_type": "execute_result"
    }
   ],
   "source": [
    "# Read in data as pandas dataframe and display the oscar dataset\n",
    "dataset = pd.read_csv('OscarData.csv')\n",
    "dataset.head()"
   ]
  },
  {
   "cell_type": "code",
   "execution_count": 3,
   "metadata": {},
   "outputs": [
    {
     "data": {
      "text/html": [
       "<div>\n",
       "<style scoped>\n",
       "    .dataframe tbody tr th:only-of-type {\n",
       "        vertical-align: middle;\n",
       "    }\n",
       "\n",
       "    .dataframe tbody tr th {\n",
       "        vertical-align: top;\n",
       "    }\n",
       "\n",
       "    .dataframe thead th {\n",
       "        text-align: right;\n",
       "    }\n",
       "</style>\n",
       "<table border=\"1\" class=\"dataframe\">\n",
       "  <thead>\n",
       "    <tr style=\"text-align: right;\">\n",
       "      <th></th>\n",
       "      <th>year</th>\n",
       "      <th>MovieLensrating</th>\n",
       "      <th>runtimeMinutes</th>\n",
       "      <th>IMDBRating</th>\n",
       "      <th>imdb_numVotes</th>\n",
       "      <th>RottenCriticRating</th>\n",
       "      <th>rottencritic_numVotes</th>\n",
       "      <th>RottenRating</th>\n",
       "      <th>rotten_numVotes</th>\n",
       "      <th>won_bafta</th>\n",
       "      <th>won_sa</th>\n",
       "      <th>won_sag</th>\n",
       "      <th>won_cc</th>\n",
       "      <th>won_dga</th>\n",
       "      <th>won_nbra</th>\n",
       "      <th>won_oscar</th>\n",
       "    </tr>\n",
       "  </thead>\n",
       "  <tbody>\n",
       "    <tr>\n",
       "      <th>count</th>\n",
       "      <td>411.000000</td>\n",
       "      <td>411.000000</td>\n",
       "      <td>411.000000</td>\n",
       "      <td>411.000000</td>\n",
       "      <td>4.110000e+02</td>\n",
       "      <td>411.000000</td>\n",
       "      <td>411.000000</td>\n",
       "      <td>411.000000</td>\n",
       "      <td>4.110000e+02</td>\n",
       "      <td>411.000000</td>\n",
       "      <td>411.000000</td>\n",
       "      <td>411.000000</td>\n",
       "      <td>411.000000</td>\n",
       "      <td>411.000000</td>\n",
       "      <td>411.000000</td>\n",
       "      <td>411.000000</td>\n",
       "    </tr>\n",
       "    <tr>\n",
       "      <th>mean</th>\n",
       "      <td>1984.000000</td>\n",
       "      <td>3.744891</td>\n",
       "      <td>130.605839</td>\n",
       "      <td>7.703163</td>\n",
       "      <td>2.289712e+05</td>\n",
       "      <td>87.581509</td>\n",
       "      <td>117.270073</td>\n",
       "      <td>83.464720</td>\n",
       "      <td>6.384332e+05</td>\n",
       "      <td>0.133820</td>\n",
       "      <td>0.060827</td>\n",
       "      <td>0.053528</td>\n",
       "      <td>0.063260</td>\n",
       "      <td>0.170316</td>\n",
       "      <td>0.148418</td>\n",
       "      <td>0.182482</td>\n",
       "    </tr>\n",
       "    <tr>\n",
       "      <th>std</th>\n",
       "      <td>22.762185</td>\n",
       "      <td>0.295022</td>\n",
       "      <td>25.593356</td>\n",
       "      <td>0.481071</td>\n",
       "      <td>3.218728e+05</td>\n",
       "      <td>11.907778</td>\n",
       "      <td>114.005338</td>\n",
       "      <td>9.163586</td>\n",
       "      <td>4.055703e+06</td>\n",
       "      <td>0.340874</td>\n",
       "      <td>0.239304</td>\n",
       "      <td>0.225358</td>\n",
       "      <td>0.243727</td>\n",
       "      <td>0.376369</td>\n",
       "      <td>0.355948</td>\n",
       "      <td>0.386712</td>\n",
       "    </tr>\n",
       "    <tr>\n",
       "      <th>min</th>\n",
       "      <td>1944.000000</td>\n",
       "      <td>2.820000</td>\n",
       "      <td>84.000000</td>\n",
       "      <td>6.200000</td>\n",
       "      <td>1.147000e+03</td>\n",
       "      <td>0.000000</td>\n",
       "      <td>0.000000</td>\n",
       "      <td>41.000000</td>\n",
       "      <td>3.340000e+02</td>\n",
       "      <td>0.000000</td>\n",
       "      <td>0.000000</td>\n",
       "      <td>0.000000</td>\n",
       "      <td>0.000000</td>\n",
       "      <td>0.000000</td>\n",
       "      <td>0.000000</td>\n",
       "      <td>0.000000</td>\n",
       "    </tr>\n",
       "    <tr>\n",
       "      <th>25%</th>\n",
       "      <td>1964.000000</td>\n",
       "      <td>3.565000</td>\n",
       "      <td>113.000000</td>\n",
       "      <td>7.400000</td>\n",
       "      <td>2.047700e+04</td>\n",
       "      <td>84.000000</td>\n",
       "      <td>30.000000</td>\n",
       "      <td>79.000000</td>\n",
       "      <td>9.507500e+03</td>\n",
       "      <td>0.000000</td>\n",
       "      <td>0.000000</td>\n",
       "      <td>0.000000</td>\n",
       "      <td>0.000000</td>\n",
       "      <td>0.000000</td>\n",
       "      <td>0.000000</td>\n",
       "      <td>0.000000</td>\n",
       "    </tr>\n",
       "    <tr>\n",
       "      <th>50%</th>\n",
       "      <td>1985.000000</td>\n",
       "      <td>3.760000</td>\n",
       "      <td>126.000000</td>\n",
       "      <td>7.700000</td>\n",
       "      <td>9.304000e+04</td>\n",
       "      <td>91.000000</td>\n",
       "      <td>60.000000</td>\n",
       "      <td>85.000000</td>\n",
       "      <td>4.973300e+04</td>\n",
       "      <td>0.000000</td>\n",
       "      <td>0.000000</td>\n",
       "      <td>0.000000</td>\n",
       "      <td>0.000000</td>\n",
       "      <td>0.000000</td>\n",
       "      <td>0.000000</td>\n",
       "      <td>0.000000</td>\n",
       "    </tr>\n",
       "    <tr>\n",
       "      <th>75%</th>\n",
       "      <td>2006.000000</td>\n",
       "      <td>3.935000</td>\n",
       "      <td>143.000000</td>\n",
       "      <td>8.000000</td>\n",
       "      <td>3.050575e+05</td>\n",
       "      <td>95.000000</td>\n",
       "      <td>212.500000</td>\n",
       "      <td>90.000000</td>\n",
       "      <td>1.798465e+05</td>\n",
       "      <td>0.000000</td>\n",
       "      <td>0.000000</td>\n",
       "      <td>0.000000</td>\n",
       "      <td>0.000000</td>\n",
       "      <td>0.000000</td>\n",
       "      <td>0.000000</td>\n",
       "      <td>0.000000</td>\n",
       "    </tr>\n",
       "    <tr>\n",
       "      <th>max</th>\n",
       "      <td>2018.000000</td>\n",
       "      <td>4.720000</td>\n",
       "      <td>220.000000</td>\n",
       "      <td>9.300000</td>\n",
       "      <td>2.070726e+06</td>\n",
       "      <td>100.000000</td>\n",
       "      <td>472.000000</td>\n",
       "      <td>98.000000</td>\n",
       "      <td>3.579764e+07</td>\n",
       "      <td>1.000000</td>\n",
       "      <td>1.000000</td>\n",
       "      <td>1.000000</td>\n",
       "      <td>1.000000</td>\n",
       "      <td>1.000000</td>\n",
       "      <td>1.000000</td>\n",
       "      <td>1.000000</td>\n",
       "    </tr>\n",
       "  </tbody>\n",
       "</table>\n",
       "</div>"
      ],
      "text/plain": [
       "              year  MovieLensrating  runtimeMinutes  IMDBRating  \\\n",
       "count   411.000000       411.000000      411.000000  411.000000   \n",
       "mean   1984.000000         3.744891      130.605839    7.703163   \n",
       "std      22.762185         0.295022       25.593356    0.481071   \n",
       "min    1944.000000         2.820000       84.000000    6.200000   \n",
       "25%    1964.000000         3.565000      113.000000    7.400000   \n",
       "50%    1985.000000         3.760000      126.000000    7.700000   \n",
       "75%    2006.000000         3.935000      143.000000    8.000000   \n",
       "max    2018.000000         4.720000      220.000000    9.300000   \n",
       "\n",
       "       imdb_numVotes  RottenCriticRating  rottencritic_numVotes  RottenRating  \\\n",
       "count   4.110000e+02          411.000000             411.000000    411.000000   \n",
       "mean    2.289712e+05           87.581509             117.270073     83.464720   \n",
       "std     3.218728e+05           11.907778             114.005338      9.163586   \n",
       "min     1.147000e+03            0.000000               0.000000     41.000000   \n",
       "25%     2.047700e+04           84.000000              30.000000     79.000000   \n",
       "50%     9.304000e+04           91.000000              60.000000     85.000000   \n",
       "75%     3.050575e+05           95.000000             212.500000     90.000000   \n",
       "max     2.070726e+06          100.000000             472.000000     98.000000   \n",
       "\n",
       "       rotten_numVotes   won_bafta      won_sa     won_sag      won_cc  \\\n",
       "count     4.110000e+02  411.000000  411.000000  411.000000  411.000000   \n",
       "mean      6.384332e+05    0.133820    0.060827    0.053528    0.063260   \n",
       "std       4.055703e+06    0.340874    0.239304    0.225358    0.243727   \n",
       "min       3.340000e+02    0.000000    0.000000    0.000000    0.000000   \n",
       "25%       9.507500e+03    0.000000    0.000000    0.000000    0.000000   \n",
       "50%       4.973300e+04    0.000000    0.000000    0.000000    0.000000   \n",
       "75%       1.798465e+05    0.000000    0.000000    0.000000    0.000000   \n",
       "max       3.579764e+07    1.000000    1.000000    1.000000    1.000000   \n",
       "\n",
       "          won_dga    won_nbra   won_oscar  \n",
       "count  411.000000  411.000000  411.000000  \n",
       "mean     0.170316    0.148418    0.182482  \n",
       "std      0.376369    0.355948    0.386712  \n",
       "min      0.000000    0.000000    0.000000  \n",
       "25%      0.000000    0.000000    0.000000  \n",
       "50%      0.000000    0.000000    0.000000  \n",
       "75%      0.000000    0.000000    0.000000  \n",
       "max      1.000000    1.000000    1.000000  "
      ]
     },
     "execution_count": 3,
     "metadata": {},
     "output_type": "execute_result"
    }
   ],
   "source": [
    "# Descriptive statistics for each column\n",
    "dataset.describe()"
   ]
  },
  {
   "cell_type": "code",
   "execution_count": 4,
   "metadata": {},
   "outputs": [
    {
     "data": {
      "text/html": [
       "<div>\n",
       "<style scoped>\n",
       "    .dataframe tbody tr th:only-of-type {\n",
       "        vertical-align: middle;\n",
       "    }\n",
       "\n",
       "    .dataframe tbody tr th {\n",
       "        vertical-align: top;\n",
       "    }\n",
       "\n",
       "    .dataframe thead th {\n",
       "        text-align: right;\n",
       "    }\n",
       "</style>\n",
       "<table border=\"1\" class=\"dataframe\">\n",
       "  <thead>\n",
       "    <tr style=\"text-align: right;\">\n",
       "      <th></th>\n",
       "      <th>year</th>\n",
       "      <th>category</th>\n",
       "      <th>title</th>\n",
       "      <th>genres</th>\n",
       "      <th>MovieLensrating</th>\n",
       "      <th>runtimeMinutes</th>\n",
       "      <th>IMDBRating</th>\n",
       "      <th>imdb_numVotes</th>\n",
       "      <th>RottenCriticRating</th>\n",
       "      <th>rottencritic_numVotes</th>\n",
       "      <th>RottenRating</th>\n",
       "      <th>rotten_numVotes</th>\n",
       "      <th>won_bafta</th>\n",
       "      <th>won_sa</th>\n",
       "      <th>won_sag</th>\n",
       "      <th>won_cc</th>\n",
       "      <th>won_dga</th>\n",
       "      <th>won_nbra</th>\n",
       "      <th>won_oscar</th>\n",
       "    </tr>\n",
       "  </thead>\n",
       "  <tbody>\n",
       "    <tr>\n",
       "      <th>406</th>\n",
       "      <td>2018</td>\n",
       "      <td>BEST PICTURE</td>\n",
       "      <td>The Favourite</td>\n",
       "      <td>Drama|Comedy</td>\n",
       "      <td>3.82</td>\n",
       "      <td>119</td>\n",
       "      <td>7.7</td>\n",
       "      <td>103011</td>\n",
       "      <td>93</td>\n",
       "      <td>362</td>\n",
       "      <td>67</td>\n",
       "      <td>5754</td>\n",
       "      <td>0</td>\n",
       "      <td>1</td>\n",
       "      <td>0</td>\n",
       "      <td>0</td>\n",
       "      <td>0</td>\n",
       "      <td>0</td>\n",
       "      <td>0</td>\n",
       "    </tr>\n",
       "    <tr>\n",
       "      <th>407</th>\n",
       "      <td>2018</td>\n",
       "      <td>BEST PICTURE</td>\n",
       "      <td>Green Book</td>\n",
       "      <td>Drama|Comedy</td>\n",
       "      <td>3.94</td>\n",
       "      <td>130</td>\n",
       "      <td>8.3</td>\n",
       "      <td>170827</td>\n",
       "      <td>78</td>\n",
       "      <td>316</td>\n",
       "      <td>92</td>\n",
       "      <td>7859</td>\n",
       "      <td>0</td>\n",
       "      <td>0</td>\n",
       "      <td>0</td>\n",
       "      <td>0</td>\n",
       "      <td>0</td>\n",
       "      <td>1</td>\n",
       "      <td>1</td>\n",
       "    </tr>\n",
       "    <tr>\n",
       "      <th>408</th>\n",
       "      <td>2018</td>\n",
       "      <td>BEST PICTURE</td>\n",
       "      <td>Roma</td>\n",
       "      <td>Drama</td>\n",
       "      <td>3.76</td>\n",
       "      <td>135</td>\n",
       "      <td>7.8</td>\n",
       "      <td>100158</td>\n",
       "      <td>96</td>\n",
       "      <td>353</td>\n",
       "      <td>71</td>\n",
       "      <td>4667</td>\n",
       "      <td>1</td>\n",
       "      <td>1</td>\n",
       "      <td>0</td>\n",
       "      <td>1</td>\n",
       "      <td>1</td>\n",
       "      <td>0</td>\n",
       "      <td>0</td>\n",
       "    </tr>\n",
       "    <tr>\n",
       "      <th>409</th>\n",
       "      <td>2018</td>\n",
       "      <td>BEST PICTURE</td>\n",
       "      <td>A Star Is Born</td>\n",
       "      <td>Drama|Romance</td>\n",
       "      <td>3.67</td>\n",
       "      <td>135</td>\n",
       "      <td>7.8</td>\n",
       "      <td>229903</td>\n",
       "      <td>89</td>\n",
       "      <td>472</td>\n",
       "      <td>80</td>\n",
       "      <td>18019</td>\n",
       "      <td>0</td>\n",
       "      <td>1</td>\n",
       "      <td>0</td>\n",
       "      <td>0</td>\n",
       "      <td>0</td>\n",
       "      <td>0</td>\n",
       "      <td>0</td>\n",
       "    </tr>\n",
       "    <tr>\n",
       "      <th>410</th>\n",
       "      <td>2018</td>\n",
       "      <td>BEST PICTURE</td>\n",
       "      <td>Vice</td>\n",
       "      <td>Drama|Comedy</td>\n",
       "      <td>3.49</td>\n",
       "      <td>132</td>\n",
       "      <td>7.2</td>\n",
       "      <td>58938</td>\n",
       "      <td>66</td>\n",
       "      <td>326</td>\n",
       "      <td>58</td>\n",
       "      <td>3902</td>\n",
       "      <td>0</td>\n",
       "      <td>0</td>\n",
       "      <td>0</td>\n",
       "      <td>0</td>\n",
       "      <td>0</td>\n",
       "      <td>0</td>\n",
       "      <td>0</td>\n",
       "    </tr>\n",
       "  </tbody>\n",
       "</table>\n",
       "</div>"
      ],
      "text/plain": [
       "     year      category           title         genres  MovieLensrating  \\\n",
       "406  2018  BEST PICTURE   The Favourite   Drama|Comedy             3.82   \n",
       "407  2018  BEST PICTURE      Green Book   Drama|Comedy             3.94   \n",
       "408  2018  BEST PICTURE            Roma          Drama             3.76   \n",
       "409  2018  BEST PICTURE  A Star Is Born  Drama|Romance             3.67   \n",
       "410  2018  BEST PICTURE            Vice   Drama|Comedy             3.49   \n",
       "\n",
       "     runtimeMinutes  IMDBRating  imdb_numVotes  RottenCriticRating  \\\n",
       "406             119         7.7         103011                  93   \n",
       "407             130         8.3         170827                  78   \n",
       "408             135         7.8         100158                  96   \n",
       "409             135         7.8         229903                  89   \n",
       "410             132         7.2          58938                  66   \n",
       "\n",
       "     rottencritic_numVotes  RottenRating  rotten_numVotes  won_bafta  won_sa  \\\n",
       "406                    362            67             5754          0       1   \n",
       "407                    316            92             7859          0       0   \n",
       "408                    353            71             4667          1       1   \n",
       "409                    472            80            18019          0       1   \n",
       "410                    326            58             3902          0       0   \n",
       "\n",
       "     won_sag  won_cc  won_dga  won_nbra  won_oscar  \n",
       "406        0       0        0         0          0  \n",
       "407        0       0        0         1          1  \n",
       "408        0       1        1         0          0  \n",
       "409        0       0        0         0          0  \n",
       "410        0       0        0         0          0  "
      ]
     },
     "execution_count": 4,
     "metadata": {},
     "output_type": "execute_result"
    }
   ],
   "source": [
    "dataset = dataset.fillna(dataset.mean())\n",
    "dataset.tail()"
   ]
  },
  {
   "cell_type": "code",
   "execution_count": 5,
   "metadata": {},
   "outputs": [
    {
     "data": {
      "text/plain": [
       "['MovieLensrating',\n",
       " 'runtimeMinutes',\n",
       " 'IMDBRating',\n",
       " 'imdb_numVotes',\n",
       " 'RottenCriticRating',\n",
       " 'rottencritic_numVotes',\n",
       " 'RottenRating',\n",
       " 'rotten_numVotes',\n",
       " 'won_bafta',\n",
       " 'won_sa',\n",
       " 'won_sag',\n",
       " 'won_cc',\n",
       " 'won_dga',\n",
       " 'won_nbra']"
      ]
     },
     "execution_count": 5,
     "metadata": {},
     "output_type": "execute_result"
    }
   ],
   "source": [
    "#feature list for variable importance\n",
    "features = dataset.iloc[:,4:18]\n",
    "feature_list = list(features.columns)\n",
    "feature_list"
   ]
  },
  {
   "cell_type": "code",
   "execution_count": 6,
   "metadata": {},
   "outputs": [],
   "source": [
    "#Divide the dataset into features(X) and the label(y) which we have to predict\n",
    "X = dataset.iloc[:, 4 : 18].values\n",
    "y = dataset.iloc[:, 18].values"
   ]
  },
  {
   "cell_type": "code",
   "execution_count": 7,
   "metadata": {},
   "outputs": [
    {
     "name": "stdout",
     "output_type": "stream",
     "text": [
      "The shape of our features is: (411, 14)\n"
     ]
    }
   ],
   "source": [
    "print('The shape of our features is:', X.shape)"
   ]
  },
  {
   "cell_type": "code",
   "execution_count": 8,
   "metadata": {},
   "outputs": [
    {
     "data": {
      "text/plain": [
       "array([0, 0, 1, 0, 0, 0, 0, 1, 0, 0, 1, 0, 0, 0, 0, 0, 0, 1, 0, 0, 1, 0,\n",
       "       0, 0, 0, 1, 0, 0, 0, 0, 1, 0, 0, 0, 0, 1, 0, 0, 0, 0, 1, 0, 0, 0,\n",
       "       0, 1, 0, 0, 0, 0, 0, 0, 1, 0, 0, 0, 1, 0, 0, 0, 1, 0, 0, 0, 0, 1,\n",
       "       0, 0, 0, 0, 0, 0, 0, 1, 0, 0, 1, 0, 0, 0, 0, 1, 0, 0, 0, 0, 0, 0,\n",
       "       0, 1, 1, 0, 0, 0, 0, 0, 0, 0, 0, 1, 0, 0, 0, 1, 0, 0, 0, 0, 1, 0,\n",
       "       0, 1, 0, 0, 0, 0, 0, 0, 0, 1, 0, 0, 1, 0, 0, 0, 0, 0, 1, 0, 0, 0,\n",
       "       0, 0, 1, 0, 0, 1, 0, 0, 0, 0, 0, 1, 0, 0, 0, 0, 1, 0, 0, 0, 1, 0,\n",
       "       0, 0, 0, 0, 0, 1, 0, 0, 0, 1, 0, 1, 0, 0, 0, 0, 0, 1, 0, 0, 0, 0,\n",
       "       0, 0, 1, 0, 0, 0, 1, 0, 0, 0, 1, 0, 0, 0, 0, 1, 0, 0, 0, 0, 0, 0,\n",
       "       0, 1, 1, 0, 0, 0, 0, 1, 0, 0, 0, 0, 0, 1, 0, 0, 0, 0, 1, 0, 0, 0,\n",
       "       0, 1, 0, 0, 0, 1, 0, 0, 0, 1, 0, 0, 0, 0, 0, 0, 0, 1, 0, 0, 0, 0,\n",
       "       1, 0, 0, 0, 0, 1, 1, 0, 0, 0, 0, 0, 0, 1, 0, 1, 0, 0, 0, 0, 0, 0,\n",
       "       0, 0, 1, 0, 0, 0, 1, 0, 1, 0, 0, 0, 0, 0, 0, 0, 1, 0, 1, 0, 0, 0,\n",
       "       0, 1, 0, 0, 0, 0, 1, 0, 0, 0, 0, 0, 0, 1, 0, 0, 0, 0, 1, 0, 0, 0,\n",
       "       1, 0, 0, 0, 0, 0, 0, 1, 0, 0, 0, 0, 0, 1, 0, 0, 0, 0, 1, 0, 0, 0,\n",
       "       0, 0, 0, 0, 0, 0, 1, 0, 0, 0, 0, 0, 1, 0, 0, 0, 0, 0, 0, 0, 0, 0,\n",
       "       1, 0, 0, 0, 0, 0, 0, 0, 0, 0, 0, 0, 0, 0, 0, 1, 0, 0, 1, 0, 0, 0,\n",
       "       0, 0, 0, 0, 0, 0, 0, 0, 0, 0, 1, 0, 0, 0, 0, 0, 0, 0, 0, 1, 0, 0,\n",
       "       0, 0, 0, 0, 0, 1, 0, 0, 0, 0, 0, 1, 0, 0, 0])"
      ]
     },
     "execution_count": 8,
     "metadata": {},
     "output_type": "execute_result"
    }
   ],
   "source": [
    "#Viewing the sliced label data\n",
    "y"
   ]
  },
  {
   "cell_type": "markdown",
   "metadata": {},
   "source": [
    "## 2. Splitting the dataset into the Training set and Test set\n"
   ]
  },
  {
   "cell_type": "code",
   "execution_count": 9,
   "metadata": {},
   "outputs": [],
   "source": [
    "# Using Skicit-learn to split data into training and testing sets\n",
    "from sklearn.model_selection import train_test_split\n",
    "\n",
    "X_train, X_test, y_train, y_test = train_test_split(X, y, test_size = 0.20, random_state = 0)"
   ]
  },
  {
   "cell_type": "code",
   "execution_count": 10,
   "metadata": {},
   "outputs": [
    {
     "name": "stdout",
     "output_type": "stream",
     "text": [
      "Training Features Shape: (328, 14)\n",
      "Training Labels Shape: (328,)\n",
      "Testing Features Shape: (83, 14)\n",
      "Testing Labels Shape: (83,)\n"
     ]
    }
   ],
   "source": [
    "print('Training Features Shape:', X_train.shape)\n",
    "print('Training Labels Shape:', y_train.shape)\n",
    "print('Testing Features Shape:', X_test.shape)\n",
    "print('Testing Labels Shape:', y_test.shape)"
   ]
  },
  {
   "cell_type": "markdown",
   "metadata": {},
   "source": [
    "# Logistic Regression \n",
    "\n",
    "Logistic regression is the go-to method for binary classification problems (problems with two class values). We started off our Oscar prediction with trying out logistic regression.\n",
    "\n",
    "The first 2 steps will be the same and now we move on to fit the Oscar data to the logisitic regression model"
   ]
  },
  {
   "cell_type": "markdown",
   "metadata": {},
   "source": [
    "## 3. Fitting Logistic Regression to the data set"
   ]
  },
  {
   "cell_type": "code",
   "execution_count": 11,
   "metadata": {},
   "outputs": [
    {
     "data": {
      "text/plain": [
       "LogisticRegression(C=1.0, class_weight=None, dual=False, fit_intercept=True,\n",
       "          intercept_scaling=1, max_iter=100, multi_class='warn',\n",
       "          n_jobs=None, penalty='l2', random_state=0, solver='lbfgs',\n",
       "          tol=0.0001, verbose=0, warm_start=False)"
      ]
     },
     "execution_count": 11,
     "metadata": {},
     "output_type": "execute_result"
    }
   ],
   "source": [
    "from sklearn.linear_model import LogisticRegression\n",
    "classifier_lr = LogisticRegression(random_state=0,solver=\"lbfgs\")\n",
    "classifier_lr.fit(X_train, y_train)"
   ]
  },
  {
   "cell_type": "markdown",
   "metadata": {},
   "source": [
    "## 4. Assess Logistic Regression Performance"
   ]
  },
  {
   "cell_type": "markdown",
   "metadata": {},
   "source": [
    "#### Confusion Matrix for Logistic Regression"
   ]
  },
  {
   "cell_type": "code",
   "execution_count": 12,
   "metadata": {},
   "outputs": [],
   "source": [
    "# Predicting the Test set results\n",
    "y_pred_lr = classifier_lr.predict(X_test)"
   ]
  },
  {
   "cell_type": "code",
   "execution_count": 13,
   "metadata": {},
   "outputs": [],
   "source": [
    "from sklearn.metrics import confusion_matrix\n",
    "import itertools\n",
    "\n",
    "def plot_confusion_matrix(cm, classes,\n",
    "                          normalize=False,\n",
    "                          title='Confusion matrix',\n",
    "                          cmap=plt.cm.Oranges):\n",
    "    \"\"\"\n",
    "    This function prints and plots the confusion matrix.\n",
    "    Normalization can be applied by setting `normalize=True`.\n",
    "    Source: http://scikit-learn.org/stable/auto_examples/model_selection/plot_confusion_matrix.html\n",
    "    \"\"\"\n",
    "    if normalize:\n",
    "        cm = cm.astype('float') / cm.sum(axis=1)[:, np.newaxis]\n",
    "        print(\"Normalized confusion matrix\")\n",
    "    else:\n",
    "        print('Confusion matrix, without normalization')\n",
    "\n",
    "    print(cm)\n",
    "\n",
    "    plt.figure(figsize = (10, 10))\n",
    "    plt.imshow(cm, interpolation='nearest', cmap=cmap)\n",
    "    plt.title(title, size = 24)\n",
    "    plt.colorbar(aspect=4)\n",
    "    tick_marks = np.arange(len(classes))\n",
    "    plt.xticks(tick_marks, classes, rotation=45, size = 14)\n",
    "    plt.yticks(tick_marks, classes, size = 14)\n",
    "\n",
    "    fmt = '.2f' if normalize else 'd'\n",
    "    thresh = cm.max() / 2.\n",
    "    \n",
    "    # Labeling the plot\n",
    "    for i, j in itertools.product(range(cm.shape[0]), range(cm.shape[1])):\n",
    "        plt.text(j, i, format(cm[i, j], fmt), fontsize = 20,\n",
    "                 horizontalalignment=\"center\",\n",
    "                 color=\"white\" if cm[i, j] > thresh else \"black\")\n",
    "        \n",
    "    plt.grid(None)\n",
    "    plt.tight_layout()\n",
    "    plt.ylabel('True label', size = 18)\n",
    "    plt.xlabel('Predicted label', size = 18)"
   ]
  },
  {
   "cell_type": "code",
   "execution_count": 82,
   "metadata": {},
   "outputs": [
    {
     "name": "stdout",
     "output_type": "stream",
     "text": [
      "Confusion matrix, without normalization\n",
      "[[67  1]\n",
      " [14  1]]\n"
     ]
    },
    {
     "data": {
      "image/png": "[encoded data removed]",
      "text/plain": [
       "<Figure size 720x720 with 2 Axes>"
      ]
     },
     "metadata": {
      "needs_background": "light"
     },
     "output_type": "display_data"
    }
   ],
   "source": [
    "from sklearn.metrics import confusion_matrix\n",
    "cm_lg = confusion_matrix(y_test, y_pred_lr)\n",
    "plot_confusion_matrix(cm_lg, classes = ['Lost Oscar', 'Won Oscar'],\n",
    "                      title = 'Oscar Confusion Matrix',cmap=plt.cm.Blues)"
   ]
  },
  {
   "cell_type": "markdown",
   "metadata": {},
   "source": [
    "<b>This matrix shows that there are 67+1=68 correct predictions and only 14+1=15 incorrect predictions. The logistic regression model predicts 14 false positives which means the movies which actually won the oscar but predicted that the movie lost and the model also predicted 1 false negatives which means the movies which actually lost the oscar but predicted that the movie won the oscar. \n",
    "\n",
    "\n",
    "The logistic regression model does not give us great results. Too many false positives and not correct predictions</b>"
   ]
  },
  {
   "cell_type": "code",
   "execution_count": 15,
   "metadata": {},
   "outputs": [
    {
     "name": "stdout",
     "output_type": "stream",
     "text": [
      "Accuracy 0.8192771084337349\n"
     ]
    }
   ],
   "source": [
    "from sklearn import metrics\n",
    "print(\"Accuracy\", metrics.accuracy_score(y_test, y_pred_lr))"
   ]
  },
  {
   "cell_type": "markdown",
   "metadata": {},
   "source": [
    "<b>Let's try the k-Fold Cross Validation is applied to improve the model performance</b>\n",
    "\n",
    "\"This approach involves randomly dividing the set of observations into k groups, or folds, of approximately equal size. The first fold is treated as a validation set, and the method is fit on the remaining k − 1 folds.\"\n",
    "\n",
    "— Page 181, An Introduction to Statistical Learning, 2013."
   ]
  },
  {
   "cell_type": "code",
   "execution_count": 16,
   "metadata": {},
   "outputs": [
    {
     "data": {
      "text/plain": [
       "array([0.81818182, 0.78787879, 0.81818182, 0.78787879, 0.81818182,\n",
       "       0.81818182, 0.87878788, 0.81818182, 0.84375   , 0.84375   ])"
      ]
     },
     "execution_count": 16,
     "metadata": {},
     "output_type": "execute_result"
    }
   ],
   "source": [
    "# Applying k-Fold Cross Validation\n",
    "from sklearn.model_selection import cross_val_score\n",
    "accuracies_lr = cross_val_score(estimator = classifier_lr, X = X_train, y = y_train, cv = 10)\n",
    "accuracies_lr"
   ]
  },
  {
   "cell_type": "code",
   "execution_count": 17,
   "metadata": {},
   "outputs": [
    {
     "data": {
      "text/plain": [
       "0.8232954545454545"
      ]
     },
     "execution_count": 17,
     "metadata": {},
     "output_type": "execute_result"
    }
   ],
   "source": [
    "accuracies_lr.mean()"
   ]
  },
  {
   "cell_type": "markdown",
   "metadata": {},
   "source": [
    "<b>The Logistic Regression performance shows 83% which is good in it's terms.</b>"
   ]
  },
  {
   "cell_type": "markdown",
   "metadata": {},
   "source": [
    "Let's try and build a ROC curve to check the performance"
   ]
  },
  {
   "cell_type": "code",
   "execution_count": 18,
   "metadata": {},
   "outputs": [],
   "source": [
    "# Make probability predictions\n",
    "train_probs_lr = classifier_lr.predict_proba(X_train)[:, 1]\n",
    "probs_lr = classifier_lr.predict_proba(X_test)[:, 1]\n",
    "\n",
    "train_predictions_lr = classifier_lr.predict(X_train)\n",
    "predictions_lr = classifier_lr.predict(X_test)"
   ]
  },
  {
   "cell_type": "code",
   "execution_count": 19,
   "metadata": {},
   "outputs": [
    {
     "name": "stdout",
     "output_type": "stream",
     "text": [
      "Train ROC AUC Score: 0.5644900497512436\n",
      "Test ROC AUC  Score: 0.5068627450980392\n"
     ]
    }
   ],
   "source": [
    "from sklearn.metrics import precision_score, recall_score, roc_auc_score, roc_curve\n",
    "\n",
    "print(f'Train ROC AUC Score: {roc_auc_score(y_train, train_probs_lr)}')\n",
    "print(f'Test ROC AUC  Score: {roc_auc_score(y_test, probs_lr)}')"
   ]
  },
  {
   "cell_type": "code",
   "execution_count": 20,
   "metadata": {},
   "outputs": [
    {
     "name": "stdout",
     "output_type": "stream",
     "text": [
      "Baseline ROC AUC: 0.5\n"
     ]
    }
   ],
   "source": [
    "print(f'Baseline ROC AUC: {roc_auc_score(y_test, [1 for _ in range(len(y_test))])}')"
   ]
  },
  {
   "cell_type": "code",
   "execution_count": 21,
   "metadata": {},
   "outputs": [],
   "source": [
    "def evaluate_model(predictions, probs, train_predictions, train_probs):\n",
    "    \"\"\"Compare machine learning model to baseline performance.\n",
    "    Computes statistics and shows ROC curve.\"\"\"\n",
    "    \n",
    "    baseline = {}\n",
    "    \n",
    "    baseline['recall'] = recall_score(y_test, [1 for _ in range(len(y_test))])\n",
    "    baseline['precision'] = precision_score(y_test, [1 for _ in range(len(y_test))])\n",
    "    baseline['roc'] = 0.5\n",
    "    \n",
    "    results = {}\n",
    "    \n",
    "    results['recall'] = recall_score(y_test, predictions)\n",
    "    results['precision'] = precision_score(y_test, predictions)\n",
    "    results['roc'] = roc_auc_score(y_test, probs)\n",
    "    \n",
    "    train_results = {}\n",
    "    train_results['recall'] = recall_score(y_train, train_predictions)\n",
    "    train_results['precision'] = precision_score(y_train, train_predictions)\n",
    "    train_results['roc'] = roc_auc_score(y_train, train_probs)\n",
    "    \n",
    "    for metric in ['recall', 'precision', 'roc']:\n",
    "        print(f'{metric.capitalize()} Baseline: {round(baseline[metric], 2)} Test: {round(results[metric], 2)} Train: {round(train_results[metric], 2)}')\n",
    "    \n",
    "    # Calculate false positive rates and true positive rates\n",
    "    base_fpr, base_tpr, _ = roc_curve(y_test, [1 for _ in range(len(y_test))])\n",
    "    model_fpr, model_tpr, _ = roc_curve(y_test, probs)\n",
    "\n",
    "    plt.figure(figsize = (8, 6))\n",
    "    plt.rcParams['font.size'] = 16\n",
    "    \n",
    "    # Plot both curves\n",
    "    plt.plot(base_fpr, base_tpr, 'g', label = 'baseline')\n",
    "    plt.plot(model_fpr, model_tpr, 'r', label = 'model')\n",
    "    plt.legend();\n",
    "    plt.xlabel('False Positive Rate'); plt.ylabel('True Positive Rate'); plt.title('ROC Curves');"
   ]
  },
  {
   "cell_type": "code",
   "execution_count": 22,
   "metadata": {},
   "outputs": [
    {
     "name": "stdout",
     "output_type": "stream",
     "text": [
      "Recall Baseline: 1.0 Test: 0.07 Train: 0.12\n",
      "Precision Baseline: 0.18 Test: 0.5 Train: 0.7\n",
      "Roc Baseline: 0.5 Test: 0.51 Train: 0.56\n"
     ]
    },
    {
     "data": {
      "image/png": "[encoded data removed]",
      "text/plain": [
       "<Figure size 576x432 with 1 Axes>"
      ]
     },
     "metadata": {
      "needs_background": "light"
     },
     "output_type": "display_data"
    }
   ],
   "source": [
    "evaluate_model(predictions_lr, probs_lr, train_predictions_lr, train_probs_lr)"
   ]
  },
  {
   "cell_type": "markdown",
   "metadata": {},
   "source": [
    "<b> Our Logistic regression gives a score of 59 for training data but 46 for test which are bad results.\n",
    "    \n",
    "High recall and low precision means most of the positive examples are correctly recognized but lot of false positives</b>"
   ]
  },
  {
   "cell_type": "markdown",
   "metadata": {},
   "source": [
    "## 5.Finally the Logistic Regression Model predicts the Oscars"
   ]
  },
  {
   "cell_type": "code",
   "execution_count": 23,
   "metadata": {},
   "outputs": [
    {
     "data": {
      "text/html": [
       "<div>\n",
       "<style scoped>\n",
       "    .dataframe tbody tr th:only-of-type {\n",
       "        vertical-align: middle;\n",
       "    }\n",
       "\n",
       "    .dataframe tbody tr th {\n",
       "        vertical-align: top;\n",
       "    }\n",
       "\n",
       "    .dataframe thead th {\n",
       "        text-align: right;\n",
       "    }\n",
       "</style>\n",
       "<table border=\"1\" class=\"dataframe\">\n",
       "  <thead>\n",
       "    <tr style=\"text-align: right;\">\n",
       "      <th></th>\n",
       "      <th>year</th>\n",
       "      <th>category</th>\n",
       "      <th>title</th>\n",
       "      <th>genres</th>\n",
       "      <th>MovieLensrating</th>\n",
       "      <th>runtimeMinutes</th>\n",
       "      <th>IMDBRating</th>\n",
       "      <th>imdb_numVotes</th>\n",
       "      <th>RottenCriticRating</th>\n",
       "      <th>rottencritic_numVotes</th>\n",
       "      <th>RottenRating</th>\n",
       "      <th>rotten_numVotes</th>\n",
       "      <th>won_bafta</th>\n",
       "      <th>won_sa</th>\n",
       "      <th>won_sag</th>\n",
       "      <th>won_cc</th>\n",
       "      <th>won_dga</th>\n",
       "      <th>won_nbra</th>\n",
       "      <th>won_oscar</th>\n",
       "    </tr>\n",
       "  </thead>\n",
       "  <tbody>\n",
       "    <tr>\n",
       "      <th>277</th>\n",
       "      <td>2000</td>\n",
       "      <td>BEST PICTURE</td>\n",
       "      <td>Chocolat</td>\n",
       "      <td>Drama|Romance</td>\n",
       "      <td>3.68</td>\n",
       "      <td>121</td>\n",
       "      <td>7.3</td>\n",
       "      <td>167453</td>\n",
       "      <td>62</td>\n",
       "      <td>117</td>\n",
       "      <td>83</td>\n",
       "      <td>328835</td>\n",
       "      <td>0</td>\n",
       "      <td>0</td>\n",
       "      <td>0</td>\n",
       "      <td>0</td>\n",
       "      <td>0</td>\n",
       "      <td>0</td>\n",
       "      <td>0</td>\n",
       "    </tr>\n",
       "    <tr>\n",
       "      <th>278</th>\n",
       "      <td>2000</td>\n",
       "      <td>BEST PICTURE</td>\n",
       "      <td>Crouching Tiger, Hidden Dragon</td>\n",
       "      <td>Action|Adventure|Fantasy</td>\n",
       "      <td>3.54</td>\n",
       "      <td>120</td>\n",
       "      <td>7.9</td>\n",
       "      <td>238676</td>\n",
       "      <td>97</td>\n",
       "      <td>153</td>\n",
       "      <td>86</td>\n",
       "      <td>427169</td>\n",
       "      <td>0</td>\n",
       "      <td>1</td>\n",
       "      <td>0</td>\n",
       "      <td>0</td>\n",
       "      <td>1</td>\n",
       "      <td>1</td>\n",
       "      <td>0</td>\n",
       "    </tr>\n",
       "    <tr>\n",
       "      <th>279</th>\n",
       "      <td>2000</td>\n",
       "      <td>BEST PICTURE</td>\n",
       "      <td>Erin Brockovich</td>\n",
       "      <td>Drama</td>\n",
       "      <td>3.58</td>\n",
       "      <td>131</td>\n",
       "      <td>7.3</td>\n",
       "      <td>157701</td>\n",
       "      <td>84</td>\n",
       "      <td>145</td>\n",
       "      <td>81</td>\n",
       "      <td>418491</td>\n",
       "      <td>0</td>\n",
       "      <td>0</td>\n",
       "      <td>0</td>\n",
       "      <td>0</td>\n",
       "      <td>0</td>\n",
       "      <td>0</td>\n",
       "      <td>0</td>\n",
       "    </tr>\n",
       "    <tr>\n",
       "      <th>280</th>\n",
       "      <td>2000</td>\n",
       "      <td>BEST PICTURE</td>\n",
       "      <td>Gladiator</td>\n",
       "      <td>Action|Adventure|Drama</td>\n",
       "      <td>3.96</td>\n",
       "      <td>155</td>\n",
       "      <td>8.5</td>\n",
       "      <td>1197072</td>\n",
       "      <td>76</td>\n",
       "      <td>194</td>\n",
       "      <td>87</td>\n",
       "      <td>34128074</td>\n",
       "      <td>1</td>\n",
       "      <td>0</td>\n",
       "      <td>0</td>\n",
       "      <td>1</td>\n",
       "      <td>0</td>\n",
       "      <td>0</td>\n",
       "      <td>1</td>\n",
       "    </tr>\n",
       "    <tr>\n",
       "      <th>281</th>\n",
       "      <td>2000</td>\n",
       "      <td>BEST PICTURE</td>\n",
       "      <td>Traffic</td>\n",
       "      <td>Crime|Drama|Thriller</td>\n",
       "      <td>3.80</td>\n",
       "      <td>147</td>\n",
       "      <td>7.6</td>\n",
       "      <td>185430</td>\n",
       "      <td>92</td>\n",
       "      <td>158</td>\n",
       "      <td>85</td>\n",
       "      <td>190305</td>\n",
       "      <td>0</td>\n",
       "      <td>1</td>\n",
       "      <td>1</td>\n",
       "      <td>0</td>\n",
       "      <td>0</td>\n",
       "      <td>0</td>\n",
       "      <td>0</td>\n",
       "    </tr>\n",
       "  </tbody>\n",
       "</table>\n",
       "</div>"
      ],
      "text/plain": [
       "     year      category                           title  \\\n",
       "277  2000  BEST PICTURE                        Chocolat   \n",
       "278  2000  BEST PICTURE  Crouching Tiger, Hidden Dragon   \n",
       "279  2000  BEST PICTURE                 Erin Brockovich   \n",
       "280  2000  BEST PICTURE                       Gladiator   \n",
       "281  2000  BEST PICTURE                         Traffic   \n",
       "\n",
       "                       genres  MovieLensrating  runtimeMinutes  IMDBRating  \\\n",
       "277             Drama|Romance             3.68             121         7.3   \n",
       "278  Action|Adventure|Fantasy             3.54             120         7.9   \n",
       "279                     Drama             3.58             131         7.3   \n",
       "280    Action|Adventure|Drama             3.96             155         8.5   \n",
       "281      Crime|Drama|Thriller             3.80             147         7.6   \n",
       "\n",
       "     imdb_numVotes  RottenCriticRating  rottencritic_numVotes  RottenRating  \\\n",
       "277         167453                  62                    117            83   \n",
       "278         238676                  97                    153            86   \n",
       "279         157701                  84                    145            81   \n",
       "280        1197072                  76                    194            87   \n",
       "281         185430                  92                    158            85   \n",
       "\n",
       "     rotten_numVotes  won_bafta  won_sa  won_sag  won_cc  won_dga  won_nbra  \\\n",
       "277           328835          0       0        0       0        0         0   \n",
       "278           427169          0       1        0       0        1         1   \n",
       "279           418491          0       0        0       0        0         0   \n",
       "280         34128074          1       0        0       1        0         0   \n",
       "281           190305          0       1        1       0        0         0   \n",
       "\n",
       "     won_oscar  \n",
       "277          0  \n",
       "278          0  \n",
       "279          0  \n",
       "280          1  \n",
       "281          0  "
      ]
     },
     "execution_count": 23,
     "metadata": {},
     "output_type": "execute_result"
    }
   ],
   "source": [
    "# Separate the dataset into train and test to predict the Oscar's\n",
    "train_lr = dataset[dataset['year']<=2000]\n",
    "train_lr.tail()"
   ]
  },
  {
   "cell_type": "code",
   "execution_count": 24,
   "metadata": {},
   "outputs": [
    {
     "data": {
      "text/html": [
       "<div>\n",
       "<style scoped>\n",
       "    .dataframe tbody tr th:only-of-type {\n",
       "        vertical-align: middle;\n",
       "    }\n",
       "\n",
       "    .dataframe tbody tr th {\n",
       "        vertical-align: top;\n",
       "    }\n",
       "\n",
       "    .dataframe thead th {\n",
       "        text-align: right;\n",
       "    }\n",
       "</style>\n",
       "<table border=\"1\" class=\"dataframe\">\n",
       "  <thead>\n",
       "    <tr style=\"text-align: right;\">\n",
       "      <th></th>\n",
       "      <th>year</th>\n",
       "      <th>category</th>\n",
       "      <th>title</th>\n",
       "      <th>genres</th>\n",
       "      <th>MovieLensrating</th>\n",
       "      <th>runtimeMinutes</th>\n",
       "      <th>IMDBRating</th>\n",
       "      <th>imdb_numVotes</th>\n",
       "      <th>RottenCriticRating</th>\n",
       "      <th>rottencritic_numVotes</th>\n",
       "      <th>RottenRating</th>\n",
       "      <th>rotten_numVotes</th>\n",
       "      <th>won_bafta</th>\n",
       "      <th>won_sa</th>\n",
       "      <th>won_sag</th>\n",
       "      <th>won_cc</th>\n",
       "      <th>won_dga</th>\n",
       "      <th>won_nbra</th>\n",
       "      <th>won_oscar</th>\n",
       "    </tr>\n",
       "  </thead>\n",
       "  <tbody>\n",
       "    <tr>\n",
       "      <th>406</th>\n",
       "      <td>2018</td>\n",
       "      <td>BEST PICTURE</td>\n",
       "      <td>The Favourite</td>\n",
       "      <td>Drama|Comedy</td>\n",
       "      <td>3.82</td>\n",
       "      <td>119</td>\n",
       "      <td>7.7</td>\n",
       "      <td>103011</td>\n",
       "      <td>93</td>\n",
       "      <td>362</td>\n",
       "      <td>67</td>\n",
       "      <td>5754</td>\n",
       "      <td>0</td>\n",
       "      <td>1</td>\n",
       "      <td>0</td>\n",
       "      <td>0</td>\n",
       "      <td>0</td>\n",
       "      <td>0</td>\n",
       "      <td>0</td>\n",
       "    </tr>\n",
       "    <tr>\n",
       "      <th>407</th>\n",
       "      <td>2018</td>\n",
       "      <td>BEST PICTURE</td>\n",
       "      <td>Green Book</td>\n",
       "      <td>Drama|Comedy</td>\n",
       "      <td>3.94</td>\n",
       "      <td>130</td>\n",
       "      <td>8.3</td>\n",
       "      <td>170827</td>\n",
       "      <td>78</td>\n",
       "      <td>316</td>\n",
       "      <td>92</td>\n",
       "      <td>7859</td>\n",
       "      <td>0</td>\n",
       "      <td>0</td>\n",
       "      <td>0</td>\n",
       "      <td>0</td>\n",
       "      <td>0</td>\n",
       "      <td>1</td>\n",
       "      <td>1</td>\n",
       "    </tr>\n",
       "    <tr>\n",
       "      <th>408</th>\n",
       "      <td>2018</td>\n",
       "      <td>BEST PICTURE</td>\n",
       "      <td>Roma</td>\n",
       "      <td>Drama</td>\n",
       "      <td>3.76</td>\n",
       "      <td>135</td>\n",
       "      <td>7.8</td>\n",
       "      <td>100158</td>\n",
       "      <td>96</td>\n",
       "      <td>353</td>\n",
       "      <td>71</td>\n",
       "      <td>4667</td>\n",
       "      <td>1</td>\n",
       "      <td>1</td>\n",
       "      <td>0</td>\n",
       "      <td>1</td>\n",
       "      <td>1</td>\n",
       "      <td>0</td>\n",
       "      <td>0</td>\n",
       "    </tr>\n",
       "    <tr>\n",
       "      <th>409</th>\n",
       "      <td>2018</td>\n",
       "      <td>BEST PICTURE</td>\n",
       "      <td>A Star Is Born</td>\n",
       "      <td>Drama|Romance</td>\n",
       "      <td>3.67</td>\n",
       "      <td>135</td>\n",
       "      <td>7.8</td>\n",
       "      <td>229903</td>\n",
       "      <td>89</td>\n",
       "      <td>472</td>\n",
       "      <td>80</td>\n",
       "      <td>18019</td>\n",
       "      <td>0</td>\n",
       "      <td>1</td>\n",
       "      <td>0</td>\n",
       "      <td>0</td>\n",
       "      <td>0</td>\n",
       "      <td>0</td>\n",
       "      <td>0</td>\n",
       "    </tr>\n",
       "    <tr>\n",
       "      <th>410</th>\n",
       "      <td>2018</td>\n",
       "      <td>BEST PICTURE</td>\n",
       "      <td>Vice</td>\n",
       "      <td>Drama|Comedy</td>\n",
       "      <td>3.49</td>\n",
       "      <td>132</td>\n",
       "      <td>7.2</td>\n",
       "      <td>58938</td>\n",
       "      <td>66</td>\n",
       "      <td>326</td>\n",
       "      <td>58</td>\n",
       "      <td>3902</td>\n",
       "      <td>0</td>\n",
       "      <td>0</td>\n",
       "      <td>0</td>\n",
       "      <td>0</td>\n",
       "      <td>0</td>\n",
       "      <td>0</td>\n",
       "      <td>0</td>\n",
       "    </tr>\n",
       "  </tbody>\n",
       "</table>\n",
       "</div>"
      ],
      "text/plain": [
       "     year      category           title         genres  MovieLensrating  \\\n",
       "406  2018  BEST PICTURE   The Favourite   Drama|Comedy             3.82   \n",
       "407  2018  BEST PICTURE      Green Book   Drama|Comedy             3.94   \n",
       "408  2018  BEST PICTURE            Roma          Drama             3.76   \n",
       "409  2018  BEST PICTURE  A Star Is Born  Drama|Romance             3.67   \n",
       "410  2018  BEST PICTURE            Vice   Drama|Comedy             3.49   \n",
       "\n",
       "     runtimeMinutes  IMDBRating  imdb_numVotes  RottenCriticRating  \\\n",
       "406             119         7.7         103011                  93   \n",
       "407             130         8.3         170827                  78   \n",
       "408             135         7.8         100158                  96   \n",
       "409             135         7.8         229903                  89   \n",
       "410             132         7.2          58938                  66   \n",
       "\n",
       "     rottencritic_numVotes  RottenRating  rotten_numVotes  won_bafta  won_sa  \\\n",
       "406                    362            67             5754          0       1   \n",
       "407                    316            92             7859          0       0   \n",
       "408                    353            71             4667          1       1   \n",
       "409                    472            80            18019          0       1   \n",
       "410                    326            58             3902          0       0   \n",
       "\n",
       "     won_sag  won_cc  won_dga  won_nbra  won_oscar  \n",
       "406        0       0        0         0          0  \n",
       "407        0       0        0         1          1  \n",
       "408        0       1        1         0          0  \n",
       "409        0       0        0         0          0  \n",
       "410        0       0        0         0          0  "
      ]
     },
     "execution_count": 24,
     "metadata": {},
     "output_type": "execute_result"
    }
   ],
   "source": [
    "test_lr = dataset[dataset['year']>2000]\n",
    "test_lr.tail()"
   ]
  },
  {
   "cell_type": "code",
   "execution_count": 25,
   "metadata": {},
   "outputs": [
    {
     "data": {
      "text/plain": [
       "array([0, 0, 1, 0, 0, 0, 0, 1, 0, 0, 1, 0, 0, 0, 0, 0, 0, 1, 0, 0, 1, 0,\n",
       "       0, 0, 0, 1, 0, 0, 0, 0, 1, 0, 0, 0, 0, 1, 0, 0, 0, 0, 1, 0, 0, 0,\n",
       "       0, 1, 0, 0, 0, 0, 0, 0, 1, 0, 0, 0, 1, 0, 0, 0, 1, 0, 0, 0, 0, 1,\n",
       "       0, 0, 0, 0, 0, 0, 0, 1, 0, 0, 1, 0, 0, 0, 0, 1, 0, 0, 0, 0, 0, 0,\n",
       "       0, 1, 1, 0, 0, 0, 0, 0, 0, 0, 0, 1, 0, 0, 0, 1, 0, 0, 0, 0, 1, 0,\n",
       "       0, 1, 0, 0, 0, 0, 0, 0, 0, 1, 0, 0, 1, 0, 0, 0, 0, 0, 1, 0, 0, 0,\n",
       "       0, 0, 1, 0, 0, 1, 0, 0, 0, 0, 0, 1, 0, 0, 0, 0, 1, 0, 0, 0, 1, 0,\n",
       "       0, 0, 0, 0, 0, 1, 0, 0, 0, 1, 0, 1, 0, 0, 0, 0, 0, 1, 0, 0, 0, 0,\n",
       "       0, 0, 1, 0, 0, 0, 1, 0, 0, 0, 1, 0, 0, 0, 0, 1, 0, 0, 0, 0, 0, 0,\n",
       "       0, 1, 1, 0, 0, 0, 0, 1, 0, 0, 0, 0, 0, 1, 0, 0, 0, 0, 1, 0, 0, 0,\n",
       "       0, 1, 0, 0, 0, 1, 0, 0, 0, 1, 0, 0, 0, 0, 0, 0, 0, 1, 0, 0, 0, 0,\n",
       "       1, 0, 0, 0, 0, 1, 1, 0, 0, 0, 0, 0, 0, 1, 0, 1, 0, 0, 0, 0, 0, 0,\n",
       "       0, 0, 1, 0, 0, 0, 1, 0, 1, 0, 0, 0, 0, 0, 0, 0, 1, 0])"
      ]
     },
     "execution_count": 25,
     "metadata": {},
     "output_type": "execute_result"
    }
   ],
   "source": [
    "#target varaiable which you want to predict\n",
    "target_lr = train_lr['won_oscar'].values\n",
    "target_lr"
   ]
  },
  {
   "cell_type": "code",
   "execution_count": 26,
   "metadata": {},
   "outputs": [
    {
     "data": {
      "text/plain": [
       "array([[0. , 0. , 0. , 0. , 0. , 8.3],\n",
       "       [0. , 0. , 0. , 0. , 0. , 7.8],\n",
       "       [0. , 0. , 0. , 0. , 0. , 7.2],\n",
       "       ...,\n",
       "       [0. , 0. , 0. , 0. , 0. , 7.3],\n",
       "       [1. , 0. , 0. , 0. , 1. , 8.5],\n",
       "       [0. , 0. , 1. , 1. , 0. , 7.6]])"
      ]
     },
     "execution_count": 26,
     "metadata": {},
     "output_type": "execute_result"
    }
   ],
   "source": [
    "#Define the feature names based on which you want the Oscar's to be predicted\n",
    "feature_names_lr = [\n",
    "    'won_bafta',\n",
    "    'won_dga',\n",
    "    'won_sa',\n",
    "    'won_sag',\n",
    "    'won_cc',\n",
    "    'IMDBRating'\n",
    "]\n",
    "features_lr = train_lr[feature_names_lr].values\n",
    "features_lr"
   ]
  },
  {
   "cell_type": "code",
   "execution_count": 27,
   "metadata": {},
   "outputs": [
    {
     "data": {
      "text/plain": [
       "LogisticRegression(C=1.0, class_weight=None, dual=False, fit_intercept=True,\n",
       "          intercept_scaling=1, max_iter=100, multi_class='warn',\n",
       "          n_jobs=None, penalty='l2', random_state=0, solver='lbfgs',\n",
       "          tol=0.0001, verbose=0, warm_start=False)"
      ]
     },
     "execution_count": 27,
     "metadata": {},
     "output_type": "execute_result"
    }
   ],
   "source": [
    "classifier_lr.fit(features_lr, target_lr)"
   ]
  },
  {
   "cell_type": "code",
   "execution_count": 28,
   "metadata": {},
   "outputs": [],
   "source": [
    "test_features_lr = test_lr[feature_names_lr].values\n",
    "pred_LR = classifier_lr.predict_proba(test_features_lr)[:,1]"
   ]
  },
  {
   "cell_type": "markdown",
   "metadata": {},
   "source": [
    "Using [:,1] in the code will give you the probabilities of getting the output as 1. If you replace 1 with 0 in the above code, you will only get the probabilities of getting the output as 0."
   ]
  },
  {
   "cell_type": "code",
   "execution_count": 29,
   "metadata": {},
   "outputs": [],
   "source": [
    "movie_name = np.array(test_lr['title'])\n",
    "year = np.array(test_lr['year'])\n",
    "oscar = np.array(test_lr['won_oscar'])"
   ]
  },
  {
   "cell_type": "code",
   "execution_count": 30,
   "metadata": {},
   "outputs": [],
   "source": [
    "prediction = pd.DataFrame(pred_LR.round(2), movie_name,columns =[\"Probability\"] )\n",
    "prediction[\"year\"] = year\n",
    "prediction[\"Actually Oscar\"] = oscar"
   ]
  },
  {
   "cell_type": "code",
   "execution_count": 31,
   "metadata": {},
   "outputs": [
    {
     "data": {
      "text/html": [
       "<div>\n",
       "<style scoped>\n",
       "    .dataframe tbody tr th:only-of-type {\n",
       "        vertical-align: middle;\n",
       "    }\n",
       "\n",
       "    .dataframe tbody tr th {\n",
       "        vertical-align: top;\n",
       "    }\n",
       "\n",
       "    .dataframe thead th {\n",
       "        text-align: right;\n",
       "    }\n",
       "</style>\n",
       "<table border=\"1\" class=\"dataframe\">\n",
       "  <thead>\n",
       "    <tr style=\"text-align: right;\">\n",
       "      <th></th>\n",
       "      <th>Probability</th>\n",
       "      <th>year</th>\n",
       "      <th>Actually Oscar</th>\n",
       "    </tr>\n",
       "  </thead>\n",
       "  <tbody>\n",
       "    <tr>\n",
       "      <th>Fences</th>\n",
       "      <td>0.07</td>\n",
       "      <td>2016</td>\n",
       "      <td>0</td>\n",
       "    </tr>\n",
       "    <tr>\n",
       "      <th>Hacksaw Ridge</th>\n",
       "      <td>0.07</td>\n",
       "      <td>2016</td>\n",
       "      <td>0</td>\n",
       "    </tr>\n",
       "    <tr>\n",
       "      <th>Hell or High Water</th>\n",
       "      <td>0.07</td>\n",
       "      <td>2016</td>\n",
       "      <td>0</td>\n",
       "    </tr>\n",
       "    <tr>\n",
       "      <th>Hidden Figures</th>\n",
       "      <td>0.08</td>\n",
       "      <td>2016</td>\n",
       "      <td>0</td>\n",
       "    </tr>\n",
       "    <tr>\n",
       "      <th>La La Land</th>\n",
       "      <td>0.82</td>\n",
       "      <td>2016</td>\n",
       "      <td>0</td>\n",
       "    </tr>\n",
       "    <tr>\n",
       "      <th>Lion</th>\n",
       "      <td>0.67</td>\n",
       "      <td>2016</td>\n",
       "      <td>0</td>\n",
       "    </tr>\n",
       "    <tr>\n",
       "      <th>Manchester by the Sea</th>\n",
       "      <td>0.05</td>\n",
       "      <td>2016</td>\n",
       "      <td>0</td>\n",
       "    </tr>\n",
       "    <tr>\n",
       "      <th>Moonlight</th>\n",
       "      <td>0.06</td>\n",
       "      <td>2016</td>\n",
       "      <td>1</td>\n",
       "    </tr>\n",
       "    <tr>\n",
       "      <th>Call Me by Your Name</th>\n",
       "      <td>0.08</td>\n",
       "      <td>2017</td>\n",
       "      <td>0</td>\n",
       "    </tr>\n",
       "    <tr>\n",
       "      <th>Darkest Hour</th>\n",
       "      <td>0.07</td>\n",
       "      <td>2017</td>\n",
       "      <td>0</td>\n",
       "    </tr>\n",
       "    <tr>\n",
       "      <th>Dunkirk</th>\n",
       "      <td>0.08</td>\n",
       "      <td>2017</td>\n",
       "      <td>0</td>\n",
       "    </tr>\n",
       "    <tr>\n",
       "      <th>Get Out</th>\n",
       "      <td>0.07</td>\n",
       "      <td>2017</td>\n",
       "      <td>0</td>\n",
       "    </tr>\n",
       "    <tr>\n",
       "      <th>Ladybird</th>\n",
       "      <td>0.07</td>\n",
       "      <td>2017</td>\n",
       "      <td>0</td>\n",
       "    </tr>\n",
       "    <tr>\n",
       "      <th>Phantom Thread</th>\n",
       "      <td>0.07</td>\n",
       "      <td>2017</td>\n",
       "      <td>0</td>\n",
       "    </tr>\n",
       "    <tr>\n",
       "      <th>The Post</th>\n",
       "      <td>0.07</td>\n",
       "      <td>2017</td>\n",
       "      <td>0</td>\n",
       "    </tr>\n",
       "    <tr>\n",
       "      <th>The Shape of Water</th>\n",
       "      <td>0.62</td>\n",
       "      <td>2017</td>\n",
       "      <td>1</td>\n",
       "    </tr>\n",
       "    <tr>\n",
       "      <th>Three Billboards Outside Ebbing, Missouri</th>\n",
       "      <td>0.16</td>\n",
       "      <td>2017</td>\n",
       "      <td>0</td>\n",
       "    </tr>\n",
       "    <tr>\n",
       "      <th>Black Panther</th>\n",
       "      <td>0.07</td>\n",
       "      <td>2018</td>\n",
       "      <td>0</td>\n",
       "    </tr>\n",
       "    <tr>\n",
       "      <th>BlacKkKlansman</th>\n",
       "      <td>0.05</td>\n",
       "      <td>2018</td>\n",
       "      <td>0</td>\n",
       "    </tr>\n",
       "    <tr>\n",
       "      <th>Bohemian Rhapsody</th>\n",
       "      <td>0.08</td>\n",
       "      <td>2018</td>\n",
       "      <td>0</td>\n",
       "    </tr>\n",
       "    <tr>\n",
       "      <th>The Favourite</th>\n",
       "      <td>0.05</td>\n",
       "      <td>2018</td>\n",
       "      <td>0</td>\n",
       "    </tr>\n",
       "    <tr>\n",
       "      <th>Green Book</th>\n",
       "      <td>0.08</td>\n",
       "      <td>2018</td>\n",
       "      <td>1</td>\n",
       "    </tr>\n",
       "    <tr>\n",
       "      <th>Roma</th>\n",
       "      <td>0.80</td>\n",
       "      <td>2018</td>\n",
       "      <td>0</td>\n",
       "    </tr>\n",
       "    <tr>\n",
       "      <th>A Star Is Born</th>\n",
       "      <td>0.05</td>\n",
       "      <td>2018</td>\n",
       "      <td>0</td>\n",
       "    </tr>\n",
       "    <tr>\n",
       "      <th>Vice</th>\n",
       "      <td>0.07</td>\n",
       "      <td>2018</td>\n",
       "      <td>0</td>\n",
       "    </tr>\n",
       "  </tbody>\n",
       "</table>\n",
       "</div>"
      ],
      "text/plain": [
       "                                           Probability  year  Actually Oscar\n",
       "Fences                                            0.07  2016               0\n",
       "Hacksaw Ridge                                     0.07  2016               0\n",
       "Hell or High Water                                0.07  2016               0\n",
       "Hidden Figures                                    0.08  2016               0\n",
       "La La Land                                        0.82  2016               0\n",
       "Lion                                              0.67  2016               0\n",
       "Manchester by the Sea                             0.05  2016               0\n",
       "Moonlight                                         0.06  2016               1\n",
       "Call Me by Your Name                              0.08  2017               0\n",
       "Darkest Hour                                      0.07  2017               0\n",
       "Dunkirk                                           0.08  2017               0\n",
       "Get Out                                           0.07  2017               0\n",
       "Ladybird                                          0.07  2017               0\n",
       "Phantom Thread                                    0.07  2017               0\n",
       "The Post                                          0.07  2017               0\n",
       "The Shape of Water                                0.62  2017               1\n",
       "Three Billboards Outside Ebbing, Missouri         0.16  2017               0\n",
       "Black Panther                                     0.07  2018               0\n",
       "BlacKkKlansman                                    0.05  2018               0\n",
       "Bohemian Rhapsody                                 0.08  2018               0\n",
       "The Favourite                                     0.05  2018               0\n",
       "Green Book                                        0.08  2018               1\n",
       "Roma                                              0.80  2018               0\n",
       "A Star Is Born                                    0.05  2018               0\n",
       "Vice                                              0.07  2018               0"
      ]
     },
     "execution_count": 31,
     "metadata": {},
     "output_type": "execute_result"
    }
   ],
   "source": [
    "prediction.tail(25)"
   ]
  },
  {
   "cell_type": "markdown",
   "metadata": {},
   "source": [
    "</br>\n",
    "<center>\n",
    "    <img src =predictions.jpg width = 400 />\n",
    "    *Please work...*\n",
    "</center>"
   ]
  },
  {
   "cell_type": "markdown",
   "metadata": {},
   "source": [
    "<b>Well the logistic regression model is a start to our machine learning classification problem for predicting the Oscars. It did not give us great results with the test data and it also does not predict correct results. It predicts \"Roma\" as the Oscar winner rather than the actual winner \"Green Book\"\n",
    "\n",
    "    It also predicts \"La La Land\" instead of \"MoonLight\" for the Best Picture\"\n",
    "\n",
    "</b> "
   ]
  },
  {
   "cell_type": "markdown",
   "metadata": {},
   "source": [
    "# Decision Trees\n",
    "\n",
    "A decision tree is the building block of a random forest and is an intuitive model. We can think of a decision tree as a series of yes/no questions asked about our data eventually leading to a predicted class. \n",
    "\n",
    "Presumably, the odds of an Oscar win could depend on critic ratings,IMDb ratings,previous awards won(BAFTA,SAG,NBRA) or even the genre. According to the Atlantic (see references below), dramas are more likely to win than any other category. And maybe a win also depends on the time of year the movie was released, so if the movie debuted near Oscars nominations season, you might have a better shot\n",
    "\n",
    "https://www.theatlantic.com/entertainment/archive/2014/03/the-secrets-to-winning-an-academy-award/284158/"
   ]
  },
  {
   "cell_type": "markdown",
   "metadata": {},
   "source": [
    "## 3. Fitting Decision Tree to the training set\n",
    "To create a decision tree and train (fit) it on the data, we use Scikit-Learn."
   ]
  },
  {
   "cell_type": "code",
   "execution_count": 32,
   "metadata": {},
   "outputs": [
    {
     "data": {
      "text/plain": [
       "DecisionTreeClassifier(class_weight=None, criterion='entropy', max_depth=None,\n",
       "            max_features=None, max_leaf_nodes=None,\n",
       "            min_impurity_decrease=0.0, min_impurity_split=None,\n",
       "            min_samples_leaf=1, min_samples_split=2,\n",
       "            min_weight_fraction_leaf=0.0, presort=False, random_state=0,\n",
       "            splitter='best')"
      ]
     },
     "execution_count": 32,
     "metadata": {},
     "output_type": "execute_result"
    }
   ],
   "source": [
    "from sklearn.tree import DecisionTreeClassifier\n",
    "classifier_dt = DecisionTreeClassifier(criterion = 'entropy',random_state = 0)\n",
    "classifier_dt.fit(X_train, y_train)"
   ]
  },
  {
   "cell_type": "code",
   "execution_count": 33,
   "metadata": {},
   "outputs": [
    {
     "name": "stdout",
     "output_type": "stream",
     "text": [
      "Decision tree has 69 nodes with maximum depth 10.\n"
     ]
    }
   ],
   "source": [
    "print(f'Decision tree has {classifier_dt.tree_.node_count} nodes with maximum depth {classifier_dt.tree_.max_depth}.')"
   ]
  },
  {
   "cell_type": "markdown",
   "metadata": {},
   "source": [
    "## 4. Variable Importance based on model"
   ]
  },
  {
   "cell_type": "code",
   "execution_count": 34,
   "metadata": {},
   "outputs": [
    {
     "name": "stdout",
     "output_type": "stream",
     "text": [
      "Variable: won_dga              Importance: 0.39\n",
      "Variable: rottencritic_numVotes Importance: 0.13\n",
      "Variable: rotten_numVotes      Importance: 0.09\n",
      "Variable: runtimeMinutes       Importance: 0.07\n",
      "Variable: RottenCriticRating   Importance: 0.07\n",
      "Variable: imdb_numVotes        Importance: 0.06\n",
      "Variable: won_cc               Importance: 0.05\n",
      "Variable: IMDBRating           Importance: 0.04\n",
      "Variable: MovieLensrating      Importance: 0.03\n",
      "Variable: RottenRating         Importance: 0.03\n",
      "Variable: won_sag              Importance: 0.02\n",
      "Variable: won_nbra             Importance: 0.02\n",
      "Variable: won_bafta            Importance: 0.0\n",
      "Variable: won_sa               Importance: 0.0\n"
     ]
    }
   ],
   "source": [
    "# Get numerical feature importances\n",
    "importances_tree = list(classifier_dt.feature_importances_)\n",
    "\n",
    "# List of tuples with variable and importance\n",
    "feature_importances = [(feature, round(importance, 2)) for feature, importance in zip(feature_list, importances_tree)]\n",
    "\n",
    "# Sort the feature importances by most important first\n",
    "feature_importances = sorted(feature_importances, key = lambda x: x[1], reverse = True)\n",
    "\n",
    "# Print out the feature and importances \n",
    "[print('Variable: {:20} Importance: {}'.format(*pair)) for pair in feature_importances];"
   ]
  },
  {
   "cell_type": "markdown",
   "metadata": {},
   "source": [
    "## 5. Visualization of the Decision Tree Model"
   ]
  },
  {
   "cell_type": "code",
   "execution_count": 35,
   "metadata": {},
   "outputs": [],
   "source": [
    "# Import tools needed for visualization\n",
    "from sklearn.tree import export_graphviz\n",
    "import pydot\n",
    "\n",
    "# Export the image to a dot file\n",
    "export_graphviz(classifier_dt, out_file = 'tree_oscars_dt.dot', feature_names = feature_list, class_names=['won','lost'],max_depth = 10,rounded = True, precision = 1)\n",
    "\n",
    "# Use dot file to create a graph\n",
    "(graph, ) = pydot.graph_from_dot_file('tree_oscars_dt.dot')\n",
    "\n",
    "# Write graph to a png file\n",
    "graph.write_png('tree_oscars_dt.png'); "
   ]
  },
  {
   "cell_type": "markdown",
   "metadata": {},
   "source": [
    "<br />\n",
    "<center>\n",
    "<img src = tree_oscars_dt.png width = 1000 />\n",
    "</center>"
   ]
  },
  {
   "cell_type": "markdown",
   "metadata": {},
   "source": [
    "## 6. Assess Decision Tree Performance"
   ]
  },
  {
   "cell_type": "markdown",
   "metadata": {},
   "source": [
    "<b> Confusion Matrix for Decision Tree </b>"
   ]
  },
  {
   "cell_type": "code",
   "execution_count": 36,
   "metadata": {},
   "outputs": [],
   "source": [
    "# Predicting the Test set results\n",
    "y_pred_dt = classifier_dt.predict(X_test)"
   ]
  },
  {
   "cell_type": "code",
   "execution_count": 37,
   "metadata": {},
   "outputs": [],
   "source": [
    "# Making the Confusion Matrix\n",
    "from sklearn.metrics import confusion_matrix\n",
    "cm_dt = confusion_matrix(y_test, y_pred_dt)"
   ]
  },
  {
   "cell_type": "code",
   "execution_count": 83,
   "metadata": {},
   "outputs": [
    {
     "name": "stdout",
     "output_type": "stream",
     "text": [
      "Confusion matrix, without normalization\n",
      "[[65  3]\n",
      " [ 5 10]]\n"
     ]
    },
    {
     "data": {
      "image/png": "[encoded data removed]",
      "text/plain": [
       "<Figure size 720x720 with 2 Axes>"
      ]
     },
     "metadata": {
      "needs_background": "light"
     },
     "output_type": "display_data"
    }
   ],
   "source": [
    "plot_confusion_matrix(cm_dt, classes = ['Lost Oscar', 'Won Oscar'],\n",
    "                      title = 'Oscar Confusion Matrix',cmap=plt.cm.Blues)"
   ]
  },
  {
   "cell_type": "markdown",
   "metadata": {},
   "source": [
    "<b> This matrix shows that there are 65+10=75 correct predictions and only 5+3=8 incorrect predictions.\n",
    "The decision tree model predicts 5 false positives which means the movies which actually won the oscar but predicted that the movie lost and the model also predicted 3 false negatives which means the movies which actually lost the oscar but predicted that the movie won the oscar. So in all, the model predicts more false positives but better than logistic regression. This could be improved using a Random Forest Classifier</b>"
   ]
  },
  {
   "cell_type": "code",
   "execution_count": 39,
   "metadata": {},
   "outputs": [
    {
     "name": "stdout",
     "output_type": "stream",
     "text": [
      "Accuracy 0.9036144578313253\n"
     ]
    }
   ],
   "source": [
    "from sklearn import metrics\n",
    "print(\"Accuracy\", metrics.accuracy_score(y_test, y_pred_dt))"
   ]
  },
  {
   "cell_type": "markdown",
   "metadata": {},
   "source": [
    "<b>Let's try the k-Fold Cross Validation is applied to improve the model performance</b>"
   ]
  },
  {
   "cell_type": "code",
   "execution_count": 40,
   "metadata": {},
   "outputs": [
    {
     "data": {
      "text/plain": [
       "array([0.93939394, 0.8030303 , 0.81818182, 0.87692308, 0.92307692])"
      ]
     },
     "execution_count": 40,
     "metadata": {},
     "output_type": "execute_result"
    }
   ],
   "source": [
    "# Applying k-Fold Cross Validation\n",
    "from sklearn.model_selection import cross_val_score\n",
    "accuracies_dt = cross_val_score(estimator = classifier_dt, X = X_train, y = y_train, cv = 5)\n",
    "accuracies_dt"
   ]
  },
  {
   "cell_type": "code",
   "execution_count": 41,
   "metadata": {},
   "outputs": [
    {
     "data": {
      "text/plain": [
       "0.8721212121212121"
      ]
     },
     "execution_count": 41,
     "metadata": {},
     "output_type": "execute_result"
    }
   ],
   "source": [
    "accuracies_dt.mean()"
   ]
  },
  {
   "cell_type": "markdown",
   "metadata": {},
   "source": [
    "<b>The Decision tree performance is 85% which is decent.</b>"
   ]
  },
  {
   "cell_type": "markdown",
   "metadata": {},
   "source": [
    "ROC curves typically feature true positive rate on the Y axis, and false positive rate on the X axis. This means that the top left corner of the plot is the “ideal” point - a false positive rate of zero, and a true positive rate of one. This is not very realistic, but it does mean that a larger area under the curve (AUC) is usually better.\n",
    "\n",
    "The “steepness” of ROC curves is also important, since it is ideal to maximize the true positive rate while minimizing the false positive rate."
   ]
  },
  {
   "cell_type": "code",
   "execution_count": 42,
   "metadata": {},
   "outputs": [],
   "source": [
    "# Make probability predictions\n",
    "train_probs_dt = classifier_dt.predict_proba(X_train)[:, 1]\n",
    "probs_dt = classifier_dt.predict_proba(X_test)[:, 1]\n",
    "\n",
    "train_predictions_dt = classifier_dt.predict(X_train)\n",
    "predictions_dt = classifier_dt.predict(X_test)"
   ]
  },
  {
   "cell_type": "code",
   "execution_count": 43,
   "metadata": {},
   "outputs": [
    {
     "name": "stdout",
     "output_type": "stream",
     "text": [
      "Train ROC AUC Score: 1.0\n",
      "Test ROC AUC  Score: 0.8112745098039215\n"
     ]
    }
   ],
   "source": [
    "from sklearn.metrics import precision_score, recall_score, roc_auc_score, roc_curve\n",
    "\n",
    "print(f'Train ROC AUC Score: {roc_auc_score(y_train, train_probs_dt)}')\n",
    "print(f'Test ROC AUC  Score: {roc_auc_score(y_test, probs_dt)}')"
   ]
  },
  {
   "cell_type": "code",
   "execution_count": 44,
   "metadata": {},
   "outputs": [
    {
     "name": "stdout",
     "output_type": "stream",
     "text": [
      "Baseline ROC AUC: 0.5\n"
     ]
    }
   ],
   "source": [
    "print(f'Baseline ROC AUC: {roc_auc_score(y_test, [1 for _ in range(len(y_test))])}')"
   ]
  },
  {
   "cell_type": "code",
   "execution_count": 45,
   "metadata": {},
   "outputs": [
    {
     "name": "stdout",
     "output_type": "stream",
     "text": [
      "Recall Baseline: 1.0 Test: 0.67 Train: 1.0\n",
      "Precision Baseline: 0.18 Test: 0.77 Train: 1.0\n",
      "Roc Baseline: 0.5 Test: 0.81 Train: 1.0\n"
     ]
    },
    {
     "data": {
      "image/png": "[encoded data removed]",
      "text/plain": [
       "<Figure size 576x432 with 1 Axes>"
      ]
     },
     "metadata": {
      "needs_background": "light"
     },
     "output_type": "display_data"
    }
   ],
   "source": [
    "evaluate_model(predictions_dt, probs_dt, train_predictions_dt, train_probs_dt)"
   ]
  },
  {
   "cell_type": "markdown",
   "metadata": {},
   "source": [
    "<b>Our decision tree for Oscars achieves the perfect score for the training data. But the test data is not great, and can be seen that there is overfitting of the training data.\n",
    "\n",
    "Low recall and hgh precision means we miss a lot of positive examples (High False positives) but those we predict as positives are indeed positive (Low False negatives)\n",
    "</b>"
   ]
  },
  {
   "cell_type": "markdown",
   "metadata": {},
   "source": [
    "## 7. Finally our Decision Tree Model predicts the Oscars"
   ]
  },
  {
   "cell_type": "code",
   "execution_count": 46,
   "metadata": {},
   "outputs": [],
   "source": [
    "test_features = dataset[feature_list].values\n",
    "\n",
    "pred_tree = classifier_dt.predict_proba(test_features)[:,1]\n",
    "movie_name = np.array(dataset['title'])\n",
    "year = np.array(dataset['year'])\n",
    "won_oscar = np.array(dataset['won_oscar'])\n"
   ]
  },
  {
   "cell_type": "code",
   "execution_count": 47,
   "metadata": {},
   "outputs": [],
   "source": [
    "tree_prediction = pd.DataFrame(pred_tree,movie_name,columns =[\"Probability\"] )\n",
    "tree_prediction[\"Year\"] = year \n",
    "tree_prediction[\"Won Oscar\"] = won_oscar"
   ]
  },
  {
   "cell_type": "code",
   "execution_count": 48,
   "metadata": {},
   "outputs": [
    {
     "data": {
      "text/html": [
       "<div>\n",
       "<style scoped>\n",
       "    .dataframe tbody tr th:only-of-type {\n",
       "        vertical-align: middle;\n",
       "    }\n",
       "\n",
       "    .dataframe tbody tr th {\n",
       "        vertical-align: top;\n",
       "    }\n",
       "\n",
       "    .dataframe thead th {\n",
       "        text-align: right;\n",
       "    }\n",
       "</style>\n",
       "<table border=\"1\" class=\"dataframe\">\n",
       "  <thead>\n",
       "    <tr style=\"text-align: right;\">\n",
       "      <th></th>\n",
       "      <th>Probability</th>\n",
       "      <th>Year</th>\n",
       "      <th>Won Oscar</th>\n",
       "    </tr>\n",
       "  </thead>\n",
       "  <tbody>\n",
       "    <tr>\n",
       "      <th>Lion</th>\n",
       "      <td>0.0</td>\n",
       "      <td>2016</td>\n",
       "      <td>0</td>\n",
       "    </tr>\n",
       "    <tr>\n",
       "      <th>Manchester by the Sea</th>\n",
       "      <td>0.0</td>\n",
       "      <td>2016</td>\n",
       "      <td>0</td>\n",
       "    </tr>\n",
       "    <tr>\n",
       "      <th>Moonlight</th>\n",
       "      <td>1.0</td>\n",
       "      <td>2016</td>\n",
       "      <td>1</td>\n",
       "    </tr>\n",
       "    <tr>\n",
       "      <th>Call Me by Your Name</th>\n",
       "      <td>0.0</td>\n",
       "      <td>2017</td>\n",
       "      <td>0</td>\n",
       "    </tr>\n",
       "    <tr>\n",
       "      <th>Darkest Hour</th>\n",
       "      <td>0.0</td>\n",
       "      <td>2017</td>\n",
       "      <td>0</td>\n",
       "    </tr>\n",
       "    <tr>\n",
       "      <th>Dunkirk</th>\n",
       "      <td>0.0</td>\n",
       "      <td>2017</td>\n",
       "      <td>0</td>\n",
       "    </tr>\n",
       "    <tr>\n",
       "      <th>Get Out</th>\n",
       "      <td>0.0</td>\n",
       "      <td>2017</td>\n",
       "      <td>0</td>\n",
       "    </tr>\n",
       "    <tr>\n",
       "      <th>Ladybird</th>\n",
       "      <td>0.0</td>\n",
       "      <td>2017</td>\n",
       "      <td>0</td>\n",
       "    </tr>\n",
       "    <tr>\n",
       "      <th>Phantom Thread</th>\n",
       "      <td>0.0</td>\n",
       "      <td>2017</td>\n",
       "      <td>0</td>\n",
       "    </tr>\n",
       "    <tr>\n",
       "      <th>The Post</th>\n",
       "      <td>0.0</td>\n",
       "      <td>2017</td>\n",
       "      <td>0</td>\n",
       "    </tr>\n",
       "    <tr>\n",
       "      <th>The Shape of Water</th>\n",
       "      <td>1.0</td>\n",
       "      <td>2017</td>\n",
       "      <td>1</td>\n",
       "    </tr>\n",
       "    <tr>\n",
       "      <th>Three Billboards Outside Ebbing, Missouri</th>\n",
       "      <td>0.0</td>\n",
       "      <td>2017</td>\n",
       "      <td>0</td>\n",
       "    </tr>\n",
       "    <tr>\n",
       "      <th>Black Panther</th>\n",
       "      <td>0.0</td>\n",
       "      <td>2018</td>\n",
       "      <td>0</td>\n",
       "    </tr>\n",
       "    <tr>\n",
       "      <th>BlacKkKlansman</th>\n",
       "      <td>0.0</td>\n",
       "      <td>2018</td>\n",
       "      <td>0</td>\n",
       "    </tr>\n",
       "    <tr>\n",
       "      <th>Bohemian Rhapsody</th>\n",
       "      <td>0.0</td>\n",
       "      <td>2018</td>\n",
       "      <td>0</td>\n",
       "    </tr>\n",
       "    <tr>\n",
       "      <th>The Favourite</th>\n",
       "      <td>0.0</td>\n",
       "      <td>2018</td>\n",
       "      <td>0</td>\n",
       "    </tr>\n",
       "    <tr>\n",
       "      <th>Green Book</th>\n",
       "      <td>1.0</td>\n",
       "      <td>2018</td>\n",
       "      <td>1</td>\n",
       "    </tr>\n",
       "    <tr>\n",
       "      <th>Roma</th>\n",
       "      <td>0.0</td>\n",
       "      <td>2018</td>\n",
       "      <td>0</td>\n",
       "    </tr>\n",
       "    <tr>\n",
       "      <th>A Star Is Born</th>\n",
       "      <td>0.0</td>\n",
       "      <td>2018</td>\n",
       "      <td>0</td>\n",
       "    </tr>\n",
       "    <tr>\n",
       "      <th>Vice</th>\n",
       "      <td>0.0</td>\n",
       "      <td>2018</td>\n",
       "      <td>0</td>\n",
       "    </tr>\n",
       "  </tbody>\n",
       "</table>\n",
       "</div>"
      ],
      "text/plain": [
       "                                           Probability  Year  Won Oscar\n",
       "Lion                                               0.0  2016          0\n",
       "Manchester by the Sea                              0.0  2016          0\n",
       "Moonlight                                          1.0  2016          1\n",
       "Call Me by Your Name                               0.0  2017          0\n",
       "Darkest Hour                                       0.0  2017          0\n",
       "Dunkirk                                            0.0  2017          0\n",
       "Get Out                                            0.0  2017          0\n",
       "Ladybird                                           0.0  2017          0\n",
       "Phantom Thread                                     0.0  2017          0\n",
       "The Post                                           0.0  2017          0\n",
       "The Shape of Water                                 1.0  2017          1\n",
       "Three Billboards Outside Ebbing, Missouri          0.0  2017          0\n",
       "Black Panther                                      0.0  2018          0\n",
       "BlacKkKlansman                                     0.0  2018          0\n",
       "Bohemian Rhapsody                                  0.0  2018          0\n",
       "The Favourite                                      0.0  2018          0\n",
       "Green Book                                         1.0  2018          1\n",
       "Roma                                               0.0  2018          0\n",
       "A Star Is Born                                     0.0  2018          0\n",
       "Vice                                               0.0  2018          0"
      ]
     },
     "execution_count": 48,
     "metadata": {},
     "output_type": "execute_result"
    }
   ],
   "source": [
    "tree_prediction.tail(20)"
   ]
  },
  {
   "cell_type": "markdown",
   "metadata": {},
   "source": [
    "</br>\n",
    "<center>\n",
    "    <img src =working.gif width = 400 />\n",
    "    *Yassss...*\n",
    "</center>"
   ]
  },
  {
   "cell_type": "markdown",
   "metadata": {},
   "source": [
    "<b>The decision tree predicts the correct Oscar winner and did way better than logisitc regression model.Andddd the Decision tree predicts \"Green Book\" as the winner.Yay!  </b>\n",
    "\n",
    "But not so good results with the model accuracy and performance. We could try to improve the results by trying another classifier"
   ]
  },
  {
   "cell_type": "markdown",
   "metadata": {},
   "source": [
    "# Random Forest Classifier \n",
    "\n",
    "The random forest combines hundreds or thousands of decision trees, trains each one on a slightly different set of the observations, splitting nodes in each tree considering a limited number of the features. The final predictions of the random forest are made by averaging the predictions of each individual tree.\n",
    "\n",
    "<b>Not great results using a decision tree as we can see above. Let's try using a Random Forest Classifier</b>\n",
    "\n",
    "Here we directly jump to the <b>3rd</b> step from above. As we have done the data pre-processing in the decision tree steps"
   ]
  },
  {
   "cell_type": "markdown",
   "metadata": {},
   "source": [
    "## 3. Fitting Random Forest to the training set\n",
    "To create a decision tree and train (fit) it on the data, we use Scikit-Learn."
   ]
  },
  {
   "cell_type": "code",
   "execution_count": 49,
   "metadata": {},
   "outputs": [
    {
     "data": {
      "text/plain": [
       "RandomForestClassifier(bootstrap=True, class_weight=None, criterion='entropy',\n",
       "            max_depth=None, max_features='auto', max_leaf_nodes=None,\n",
       "            min_impurity_decrease=0.0, min_impurity_split=None,\n",
       "            min_samples_leaf=1, min_samples_split=2,\n",
       "            min_weight_fraction_leaf=0.0, n_estimators=100, n_jobs=None,\n",
       "            oob_score=False, random_state=0, verbose=0, warm_start=False)"
      ]
     },
     "execution_count": 49,
     "metadata": {},
     "output_type": "execute_result"
    }
   ],
   "source": [
    "# Fitting Random Forest Classification to the Training set\n",
    "from sklearn.ensemble import RandomForestClassifier\n",
    "classifier_rf = RandomForestClassifier(n_estimators = 100,random_state = 0,criterion = 'entropy')\n",
    "classifier_rf.fit(X_train, y_train)"
   ]
  },
  {
   "cell_type": "markdown",
   "metadata": {},
   "source": [
    "## 4. Variable Importance based on model"
   ]
  },
  {
   "cell_type": "code",
   "execution_count": 50,
   "metadata": {},
   "outputs": [
    {
     "name": "stdout",
     "output_type": "stream",
     "text": [
      "Variable: won_dga              Importance: 0.28\n",
      "Variable: rottencritic_numVotes Importance: 0.12\n",
      "Variable: imdb_numVotes        Importance: 0.08\n",
      "Variable: rotten_numVotes      Importance: 0.08\n",
      "Variable: runtimeMinutes       Importance: 0.07\n",
      "Variable: RottenCriticRating   Importance: 0.07\n",
      "Variable: MovieLensrating      Importance: 0.06\n",
      "Variable: IMDBRating           Importance: 0.06\n",
      "Variable: RottenRating         Importance: 0.06\n",
      "Variable: won_cc               Importance: 0.05\n",
      "Variable: won_bafta            Importance: 0.03\n",
      "Variable: won_sag              Importance: 0.02\n",
      "Variable: won_nbra             Importance: 0.02\n",
      "Variable: won_sa               Importance: 0.01\n"
     ]
    }
   ],
   "source": [
    "# Get numerical feature importances\n",
    "importances_forest = list(classifier_rf.feature_importances_)\n",
    "\n",
    "# List of tuples with variable and importance\n",
    "feature_importances = [(feature, round(importance, 2)) for feature, importance in zip(feature_list, importances_forest)]\n",
    "\n",
    "# Sort the feature importances by most important first\n",
    "feature_importances = sorted(feature_importances, key = lambda x: x[1], reverse = True)\n",
    "\n",
    "# Print out the feature and importances \n",
    "[print('Variable: {:20} Importance: {}'.format(*pair)) for pair in feature_importances];"
   ]
  },
  {
   "cell_type": "code",
   "execution_count": 51,
   "metadata": {},
   "outputs": [
    {
     "data": {
      "image/png": "[encoded data removed]",
      "text/plain": [
       "<Figure size 432x288 with 1 Axes>"
      ]
     },
     "metadata": {
      "needs_background": "light"
     },
     "output_type": "display_data"
    }
   ],
   "source": [
    "# list of x locations for plotting\n",
    "x_values = list(range(len(importances_forest)))\n",
    "\n",
    "# Make a horizontal bar chart\n",
    "plt.barh(x_values, importances_forest,color=\"blue\",align=\"center\")\n",
    "\n",
    "# Tick labels for y axis\n",
    "plt.yticks(x_values, feature_list)\n",
    "#plt.ylim(-0.5,11.5)\n",
    "\n",
    "# Axis labels and title\n",
    "plt.ylabel('Feature List'); plt.xlabel('Importance'); plt.title('Variable Importances'); "
   ]
  },
  {
   "cell_type": "markdown",
   "metadata": {},
   "source": [
    "## 5. Visualization of the Random Forest Model"
   ]
  },
  {
   "cell_type": "code",
   "execution_count": 52,
   "metadata": {},
   "outputs": [],
   "source": [
    "# Import tools needed for visualization\n",
    "from sklearn.tree import export_graphviz\n",
    "import pydot\n",
    "\n",
    "# Pull out one tree from the forest\n",
    "tree = classifier_rf.estimators_[13]\n",
    "\n",
    "# Export the image to a dot file\n",
    "export_graphviz(tree, out_file = 'tree_oscars_rf.dot', feature_names = feature_list, rounded = True, precision = 1)\n",
    "\n",
    "# Use dot file to create a graph\n",
    "(graph, ) = pydot.graph_from_dot_file('tree_oscars_rf.dot')\n",
    "\n",
    "# Write graph to a png file\n",
    "graph.write_png('tree_oscars_rf.png'); "
   ]
  },
  {
   "cell_type": "markdown",
   "metadata": {},
   "source": [
    "<br />\n",
    "<center>\n",
    "<img src = tree_oscars_rf.png width = 1000 />\n",
    "</center>"
   ]
  },
  {
   "cell_type": "code",
   "execution_count": 53,
   "metadata": {},
   "outputs": [
    {
     "name": "stdout",
     "output_type": "stream",
     "text": [
      "The depth of this tree is: 14\n"
     ]
    }
   ],
   "source": [
    "print('The depth of this tree is:', tree.tree_.max_depth)"
   ]
  },
  {
   "cell_type": "code",
   "execution_count": 54,
   "metadata": {},
   "outputs": [],
   "source": [
    "# Limit depth of tree to 2 levels\n",
    "rf_small = RandomForestClassifier(n_estimators=10, max_depth = 4,criterion = 'entropy', random_state = 0)\n",
    "rf_small.fit(X_train, y_train)\n",
    "\n",
    "# Extract the small tree\n",
    "tree_small = rf_small.estimators_[5]\n",
    "\n",
    "# Save the tree as a png image\n",
    "export_graphviz(tree_small, out_file = 'small_tree_oscars.dot', feature_names = feature_list, class_names=['won','lost'],rounded = True, precision = 1)\n",
    "\n",
    "(graph, ) = pydot.graph_from_dot_file('small_tree_oscars.dot')\n",
    "\n",
    "graph.write_png('small_tree_oscars.png');"
   ]
  },
  {
   "cell_type": "markdown",
   "metadata": {},
   "source": [
    "<br/>\n",
    "<center>\n",
    "<img src = small_tree_oscars.png width = 1000 />\n",
    "</center>"
   ]
  },
  {
   "cell_type": "markdown",
   "metadata": {},
   "source": [
    "## 6. Assess Random Forest Performance"
   ]
  },
  {
   "cell_type": "markdown",
   "metadata": {},
   "source": [
    "<b> Confusion Matrix for Random Forest </b>"
   ]
  },
  {
   "cell_type": "code",
   "execution_count": 55,
   "metadata": {},
   "outputs": [],
   "source": [
    "# Predicting the Test set results\n",
    "y_pred_rf = classifier_rf.predict(X_test)"
   ]
  },
  {
   "cell_type": "code",
   "execution_count": 56,
   "metadata": {},
   "outputs": [],
   "source": [
    "# Making the Confusion Matrix\n",
    "from sklearn.metrics import confusion_matrix\n",
    "cm_rf = confusion_matrix(y_test, y_pred_rf)"
   ]
  },
  {
   "cell_type": "code",
   "execution_count": 84,
   "metadata": {},
   "outputs": [
    {
     "name": "stdout",
     "output_type": "stream",
     "text": [
      "Confusion matrix, without normalization\n",
      "[[66  2]\n",
      " [ 5 10]]\n"
     ]
    },
    {
     "data": {
      "image/png": "[encoded data removed]",
      "text/plain": [
       "<Figure size 720x720 with 2 Axes>"
      ]
     },
     "metadata": {
      "needs_background": "light"
     },
     "output_type": "display_data"
    }
   ],
   "source": [
    "plot_confusion_matrix(cm_rf, classes = ['Lost Oscar', 'Won Oscar'],\n",
    "                      title = 'Oscar Confusion Matrix',cmap=plt.cm.Blues)"
   ]
  },
  {
   "cell_type": "markdown",
   "metadata": {},
   "source": [
    "<b> This matrix shows that there are 66+10=76 correct predictions and only 5+2=7 incorrect predictions. This seems to be a better model than the decision tree.\n",
    "\n",
    "The random forest model predicts 5 false positives which means the movies which actually won the oscar but predicted that the movie lost and the model also predicted 2 false negatives which means the movies which actually lost the oscar but predicted that the movie won the oscar.\n",
    "\n",
    "Using the random forest model the false negatives are lesser,which means our model is headed in the right direction and is doing better than the decision tree model</b>"
   ]
  },
  {
   "cell_type": "code",
   "execution_count": 58,
   "metadata": {},
   "outputs": [
    {
     "name": "stdout",
     "output_type": "stream",
     "text": [
      "Accuracy 0.9156626506024096\n"
     ]
    }
   ],
   "source": [
    "from sklearn import metrics\n",
    "print(\"Accuracy\", metrics.accuracy_score(y_test, y_pred_rf))"
   ]
  },
  {
   "cell_type": "markdown",
   "metadata": {},
   "source": [
    "<b>Let's try the k-Fold Cross Validation is applied to improve the model performance</b>"
   ]
  },
  {
   "cell_type": "code",
   "execution_count": 59,
   "metadata": {},
   "outputs": [
    {
     "data": {
      "text/plain": [
       "array([0.85714286, 0.92857143, 0.9047619 , 0.80952381, 0.875     ,\n",
       "       0.875     , 0.925     , 0.925     ])"
      ]
     },
     "execution_count": 59,
     "metadata": {},
     "output_type": "execute_result"
    }
   ],
   "source": [
    "# Applying k-Fold Cross Validation\n",
    "from sklearn.model_selection import cross_val_score\n",
    "accuracies_rf = cross_val_score(estimator = classifier_rf, X = X_train, y = y_train, cv = 8)\n",
    "accuracies_rf"
   ]
  },
  {
   "cell_type": "code",
   "execution_count": 60,
   "metadata": {},
   "outputs": [
    {
     "data": {
      "text/plain": [
       "0.8875"
      ]
     },
     "execution_count": 60,
     "metadata": {},
     "output_type": "execute_result"
    }
   ],
   "source": [
    "accuracies_rf.mean()"
   ]
  },
  {
   "cell_type": "markdown",
   "metadata": {},
   "source": [
    "<b>The Random Forest performance is 91% which is better than the Decision tree's model.</b>"
   ]
  },
  {
   "cell_type": "code",
   "execution_count": 61,
   "metadata": {},
   "outputs": [],
   "source": [
    "# Make probability predictions\n",
    "train_probs_rf = classifier_rf.predict_proba(X_train)[:, 1]\n",
    "probs_rf = classifier_rf.predict_proba(X_test)[:, 1]\n",
    "\n",
    "train_predictions_rf = classifier_rf.predict(X_train)\n",
    "predictions_rf = classifier_rf.predict(X_test)"
   ]
  },
  {
   "cell_type": "code",
   "execution_count": 62,
   "metadata": {},
   "outputs": [
    {
     "name": "stdout",
     "output_type": "stream",
     "text": [
      "Train ROC AUC Score: 1.0\n",
      "Test ROC AUC  Score: 0.957843137254902\n"
     ]
    }
   ],
   "source": [
    "from sklearn.metrics import precision_score, recall_score, roc_auc_score, roc_curve\n",
    "\n",
    "print(f'Train ROC AUC Score: {roc_auc_score(y_train, train_probs_rf)}')\n",
    "print(f'Test ROC AUC  Score: {roc_auc_score(y_test, probs_rf)}')"
   ]
  },
  {
   "cell_type": "code",
   "execution_count": 63,
   "metadata": {},
   "outputs": [
    {
     "name": "stdout",
     "output_type": "stream",
     "text": [
      "Baseline ROC AUC: 0.5\n"
     ]
    }
   ],
   "source": [
    "print(f'Baseline ROC AUC: {roc_auc_score(y_test, [1 for _ in range(len(y_test))])}')"
   ]
  },
  {
   "cell_type": "code",
   "execution_count": 64,
   "metadata": {},
   "outputs": [
    {
     "name": "stdout",
     "output_type": "stream",
     "text": [
      "Recall Baseline: 1.0 Test: 0.67 Train: 1.0\n",
      "Precision Baseline: 0.18 Test: 0.83 Train: 1.0\n",
      "Roc Baseline: 0.5 Test: 0.96 Train: 1.0\n"
     ]
    },
    {
     "data": {
      "image/png": "[encoded data removed]",
      "text/plain": [
       "<Figure size 576x432 with 1 Axes>"
      ]
     },
     "metadata": {
      "needs_background": "light"
     },
     "output_type": "display_data"
    }
   ],
   "source": [
    "evaluate_model(predictions_rf, probs_rf, train_predictions_rf, train_probs_rf)"
   ]
  },
  {
   "cell_type": "markdown",
   "metadata": {},
   "source": [
    "<b>Sooo, our random forest model has done wayy better than the deicison tree model. The training data as usual is perfect, but the testing data has also done a better with a Roc of 0.96. Also the AUC is greater which means its a better model for our Oscar data.\n",
    "    \n",
    "Low recall and high precision means we miss a lot of positive examples (High False positives) but those we predict as positives are indeed positive (Low False negatives)   \n",
    "\n",
    "</b>"
   ]
  },
  {
   "cell_type": "markdown",
   "metadata": {},
   "source": [
    "## 7. Finally our Decision Tree Model predicts the Oscars"
   ]
  },
  {
   "cell_type": "code",
   "execution_count": 65,
   "metadata": {},
   "outputs": [],
   "source": [
    "test_features = dataset[feature_list].values\n",
    "\n",
    "pred_forest = classifier_rf.predict_proba(test_features)[:,1]\n",
    "movie_name = np.array(dataset['title'])\n",
    "year = np.array(dataset['year'])\n",
    "won_oscar = np.array(dataset['won_oscar'])"
   ]
  },
  {
   "cell_type": "code",
   "execution_count": 66,
   "metadata": {},
   "outputs": [],
   "source": [
    "forest_prediction = pd.DataFrame(pred_forest,movie_name,columns =[\"Probability\"] )\n",
    "forest_prediction[\"Year\"] = year \n",
    "forest_prediction[\"Won Oscar\"] = won_oscar"
   ]
  },
  {
   "cell_type": "code",
   "execution_count": 67,
   "metadata": {},
   "outputs": [
    {
     "data": {
      "text/html": [
       "<div>\n",
       "<style scoped>\n",
       "    .dataframe tbody tr th:only-of-type {\n",
       "        vertical-align: middle;\n",
       "    }\n",
       "\n",
       "    .dataframe tbody tr th {\n",
       "        vertical-align: top;\n",
       "    }\n",
       "\n",
       "    .dataframe thead th {\n",
       "        text-align: right;\n",
       "    }\n",
       "</style>\n",
       "<table border=\"1\" class=\"dataframe\">\n",
       "  <thead>\n",
       "    <tr style=\"text-align: right;\">\n",
       "      <th></th>\n",
       "      <th>Probability</th>\n",
       "      <th>Year</th>\n",
       "      <th>Won Oscar</th>\n",
       "    </tr>\n",
       "  </thead>\n",
       "  <tbody>\n",
       "    <tr>\n",
       "      <th>Lion</th>\n",
       "      <td>0.20</td>\n",
       "      <td>2016</td>\n",
       "      <td>0</td>\n",
       "    </tr>\n",
       "    <tr>\n",
       "      <th>Manchester by the Sea</th>\n",
       "      <td>0.03</td>\n",
       "      <td>2016</td>\n",
       "      <td>0</td>\n",
       "    </tr>\n",
       "    <tr>\n",
       "      <th>Moonlight</th>\n",
       "      <td>0.81</td>\n",
       "      <td>2016</td>\n",
       "      <td>1</td>\n",
       "    </tr>\n",
       "    <tr>\n",
       "      <th>Call Me by Your Name</th>\n",
       "      <td>0.03</td>\n",
       "      <td>2017</td>\n",
       "      <td>0</td>\n",
       "    </tr>\n",
       "    <tr>\n",
       "      <th>Darkest Hour</th>\n",
       "      <td>0.03</td>\n",
       "      <td>2017</td>\n",
       "      <td>0</td>\n",
       "    </tr>\n",
       "    <tr>\n",
       "      <th>Dunkirk</th>\n",
       "      <td>0.01</td>\n",
       "      <td>2017</td>\n",
       "      <td>0</td>\n",
       "    </tr>\n",
       "    <tr>\n",
       "      <th>Get Out</th>\n",
       "      <td>0.02</td>\n",
       "      <td>2017</td>\n",
       "      <td>0</td>\n",
       "    </tr>\n",
       "    <tr>\n",
       "      <th>Ladybird</th>\n",
       "      <td>0.04</td>\n",
       "      <td>2017</td>\n",
       "      <td>0</td>\n",
       "    </tr>\n",
       "    <tr>\n",
       "      <th>Phantom Thread</th>\n",
       "      <td>0.07</td>\n",
       "      <td>2017</td>\n",
       "      <td>0</td>\n",
       "    </tr>\n",
       "    <tr>\n",
       "      <th>The Post</th>\n",
       "      <td>0.11</td>\n",
       "      <td>2017</td>\n",
       "      <td>0</td>\n",
       "    </tr>\n",
       "    <tr>\n",
       "      <th>The Shape of Water</th>\n",
       "      <td>0.80</td>\n",
       "      <td>2017</td>\n",
       "      <td>1</td>\n",
       "    </tr>\n",
       "    <tr>\n",
       "      <th>Three Billboards Outside Ebbing, Missouri</th>\n",
       "      <td>0.16</td>\n",
       "      <td>2017</td>\n",
       "      <td>0</td>\n",
       "    </tr>\n",
       "    <tr>\n",
       "      <th>Black Panther</th>\n",
       "      <td>0.07</td>\n",
       "      <td>2018</td>\n",
       "      <td>0</td>\n",
       "    </tr>\n",
       "    <tr>\n",
       "      <th>BlacKkKlansman</th>\n",
       "      <td>0.04</td>\n",
       "      <td>2018</td>\n",
       "      <td>0</td>\n",
       "    </tr>\n",
       "    <tr>\n",
       "      <th>Bohemian Rhapsody</th>\n",
       "      <td>0.08</td>\n",
       "      <td>2018</td>\n",
       "      <td>0</td>\n",
       "    </tr>\n",
       "    <tr>\n",
       "      <th>The Favourite</th>\n",
       "      <td>0.13</td>\n",
       "      <td>2018</td>\n",
       "      <td>0</td>\n",
       "    </tr>\n",
       "    <tr>\n",
       "      <th>Green Book</th>\n",
       "      <td>0.66</td>\n",
       "      <td>2018</td>\n",
       "      <td>1</td>\n",
       "    </tr>\n",
       "    <tr>\n",
       "      <th>Roma</th>\n",
       "      <td>0.23</td>\n",
       "      <td>2018</td>\n",
       "      <td>0</td>\n",
       "    </tr>\n",
       "    <tr>\n",
       "      <th>A Star Is Born</th>\n",
       "      <td>0.02</td>\n",
       "      <td>2018</td>\n",
       "      <td>0</td>\n",
       "    </tr>\n",
       "    <tr>\n",
       "      <th>Vice</th>\n",
       "      <td>0.08</td>\n",
       "      <td>2018</td>\n",
       "      <td>0</td>\n",
       "    </tr>\n",
       "  </tbody>\n",
       "</table>\n",
       "</div>"
      ],
      "text/plain": [
       "                                           Probability  Year  Won Oscar\n",
       "Lion                                              0.20  2016          0\n",
       "Manchester by the Sea                             0.03  2016          0\n",
       "Moonlight                                         0.81  2016          1\n",
       "Call Me by Your Name                              0.03  2017          0\n",
       "Darkest Hour                                      0.03  2017          0\n",
       "Dunkirk                                           0.01  2017          0\n",
       "Get Out                                           0.02  2017          0\n",
       "Ladybird                                          0.04  2017          0\n",
       "Phantom Thread                                    0.07  2017          0\n",
       "The Post                                          0.11  2017          0\n",
       "The Shape of Water                                0.80  2017          1\n",
       "Three Billboards Outside Ebbing, Missouri         0.16  2017          0\n",
       "Black Panther                                     0.07  2018          0\n",
       "BlacKkKlansman                                    0.04  2018          0\n",
       "Bohemian Rhapsody                                 0.08  2018          0\n",
       "The Favourite                                     0.13  2018          0\n",
       "Green Book                                        0.66  2018          1\n",
       "Roma                                              0.23  2018          0\n",
       "A Star Is Born                                    0.02  2018          0\n",
       "Vice                                              0.08  2018          0"
      ]
     },
     "execution_count": 67,
     "metadata": {},
     "output_type": "execute_result"
    }
   ],
   "source": [
    "forest_prediction.tail(20)"
   ]
  },
  {
   "cell_type": "markdown",
   "metadata": {},
   "source": [
    "<b>Model Accuracy is better and the Oscar Prediction shows the correct result!.\n",
    "    \n",
    "    And we predict Green Book as the winner with a higher probability.\n",
    "    \n",
    " *Let us check for the ever so famous \"La La Land\" and \"Moon Light\" for 2016*</b>"
   ]
  },
  {
   "cell_type": "code",
   "execution_count": 68,
   "metadata": {},
   "outputs": [
    {
     "data": {
      "text/html": [
       "<div>\n",
       "<style scoped>\n",
       "    .dataframe tbody tr th:only-of-type {\n",
       "        vertical-align: middle;\n",
       "    }\n",
       "\n",
       "    .dataframe tbody tr th {\n",
       "        vertical-align: top;\n",
       "    }\n",
       "\n",
       "    .dataframe thead th {\n",
       "        text-align: right;\n",
       "    }\n",
       "</style>\n",
       "<table border=\"1\" class=\"dataframe\">\n",
       "  <thead>\n",
       "    <tr style=\"text-align: right;\">\n",
       "      <th></th>\n",
       "      <th>Probability</th>\n",
       "      <th>Year</th>\n",
       "      <th>Won Oscar</th>\n",
       "    </tr>\n",
       "  </thead>\n",
       "  <tbody>\n",
       "    <tr>\n",
       "      <th>Arrival</th>\n",
       "      <td>0.02</td>\n",
       "      <td>2016</td>\n",
       "      <td>0</td>\n",
       "    </tr>\n",
       "    <tr>\n",
       "      <th>Fences</th>\n",
       "      <td>0.02</td>\n",
       "      <td>2016</td>\n",
       "      <td>0</td>\n",
       "    </tr>\n",
       "    <tr>\n",
       "      <th>Hacksaw Ridge</th>\n",
       "      <td>0.17</td>\n",
       "      <td>2016</td>\n",
       "      <td>0</td>\n",
       "    </tr>\n",
       "    <tr>\n",
       "      <th>Hell or High Water</th>\n",
       "      <td>0.00</td>\n",
       "      <td>2016</td>\n",
       "      <td>0</td>\n",
       "    </tr>\n",
       "    <tr>\n",
       "      <th>Hidden Figures</th>\n",
       "      <td>0.10</td>\n",
       "      <td>2016</td>\n",
       "      <td>0</td>\n",
       "    </tr>\n",
       "    <tr>\n",
       "      <th>La La Land</th>\n",
       "      <td>0.29</td>\n",
       "      <td>2016</td>\n",
       "      <td>0</td>\n",
       "    </tr>\n",
       "    <tr>\n",
       "      <th>Lion</th>\n",
       "      <td>0.20</td>\n",
       "      <td>2016</td>\n",
       "      <td>0</td>\n",
       "    </tr>\n",
       "    <tr>\n",
       "      <th>Manchester by the Sea</th>\n",
       "      <td>0.03</td>\n",
       "      <td>2016</td>\n",
       "      <td>0</td>\n",
       "    </tr>\n",
       "    <tr>\n",
       "      <th>Moonlight</th>\n",
       "      <td>0.81</td>\n",
       "      <td>2016</td>\n",
       "      <td>1</td>\n",
       "    </tr>\n",
       "  </tbody>\n",
       "</table>\n",
       "</div>"
      ],
      "text/plain": [
       "                       Probability  Year  Won Oscar\n",
       "Arrival                       0.02  2016          0\n",
       "Fences                        0.02  2016          0\n",
       "Hacksaw Ridge                 0.17  2016          0\n",
       "Hell or High Water            0.00  2016          0\n",
       "Hidden Figures                0.10  2016          0\n",
       "La La Land                    0.29  2016          0\n",
       "Lion                          0.20  2016          0\n",
       "Manchester by the Sea         0.03  2016          0\n",
       "Moonlight                     0.81  2016          1"
      ]
     },
     "execution_count": 68,
     "metadata": {},
     "output_type": "execute_result"
    }
   ],
   "source": [
    "forest_prediction.loc[forest_prediction['Year'] == 2016]"
   ]
  },
  {
   "cell_type": "markdown",
   "metadata": {},
   "source": [
    "<b>The random forest still predicts Moonlight as the Oscar Winner.* Well the data cannot go wrong and we users really were rooting for La La Land to win. \n",
    "    \n",
    "    So the Random Forest predicts \"Green Book\" as the Best Picture winner. \n",
    "\n",
    "We have predicted the correct Oscar winners for the 2019 which is \"Green Book\". Not to brag our model also predicted that 2018 winners \"The Shape of Water\".\n",
    "\n",
    "</b>"
   ]
  },
  {
   "cell_type": "markdown",
   "metadata": {},
   "source": [
    "\n",
    "<center>\n",
    "    <img src =giphy.gif width = 500 />\n",
    "    *Yay! Random Forest...*\n",
    "</center>\n",
    "\n"
   ]
  },
  {
   "cell_type": "markdown",
   "metadata": {},
   "source": [
    "# Artificial Neural Networks (ANN)\n",
    "\n",
    "Artificial Neural Networks are relatively crude electronic models based on the neural structure of the brain. We try our hands at predicting the Oscars with ANN using Keras. "
   ]
  },
  {
   "cell_type": "code",
   "execution_count": 69,
   "metadata": {},
   "outputs": [
    {
     "name": "stderr",
     "output_type": "stream",
     "text": [
      "Using TensorFlow backend.\n"
     ]
    }
   ],
   "source": [
    "# Importing the Keras libraries and packages\n",
    "import keras\n",
    "from keras.models import Sequential\n",
    "from keras.layers import Dense"
   ]
  },
  {
   "cell_type": "markdown",
   "metadata": {},
   "source": [
    "## 1. Initialising the ANN"
   ]
  },
  {
   "cell_type": "code",
   "execution_count": 70,
   "metadata": {},
   "outputs": [],
   "source": [
    "#feature scaling\n",
    "from sklearn.preprocessing import StandardScaler\n",
    "sc = StandardScaler()\n",
    "X_train = sc.fit_transform(X_train)\n",
    "X_test = sc.transform(X_test)"
   ]
  },
  {
   "cell_type": "code",
   "execution_count": 71,
   "metadata": {},
   "outputs": [],
   "source": [
    "# Initialising the ANN\n",
    "classifier_ann = Sequential()"
   ]
  },
  {
   "cell_type": "markdown",
   "metadata": {},
   "source": [
    "## 2. Adding the Input and Hidden Layers"
   ]
  },
  {
   "cell_type": "markdown",
   "metadata": {},
   "source": [
    "This is a binary classification problem. We use Rectifier function for the activation function for inputs and we use the sigmoid function for the output layer. We take the avrage of the independent variables & dependendent variables and use for the units(14=1=15/2 = 7.5~8)\n",
    "\n",
    "We have two hidden layers in our network. Hidden layers help increase the flexibility of the neuron in predicting the Oscars"
   ]
  },
  {
   "cell_type": "code",
   "execution_count": 72,
   "metadata": {},
   "outputs": [],
   "source": [
    "# Adding the input layer and the first hidden layer\n",
    "classifier_ann.add(Dense(kernel_initializer = 'uniform', activation = 'relu', input_dim = 14,units=8))\n",
    "\n",
    "# Adding the second hidden layer\n",
    "classifier_ann.add(Dense(kernel_initializer = 'uniform', activation = 'relu',units=8))\n",
    "classifier_ann.add(Dense(kernel_initializer = 'uniform', activation = 'relu',units=8))\n",
    "\n",
    "# Adding the output layer\n",
    "classifier_ann.add(Dense(kernel_initializer = 'uniform', activation = 'sigmoid',units=1))"
   ]
  },
  {
   "cell_type": "markdown",
   "metadata": {},
   "source": [
    "## 3. Compiling the ANN"
   ]
  },
  {
   "cell_type": "markdown",
   "metadata": {},
   "source": [
    "As it is binary classification problem, we use the Stochastic gradient optimizer(SGD) optimizer which is adam and binary_crossentropy which is a logarithmic loss function"
   ]
  },
  {
   "cell_type": "code",
   "execution_count": 73,
   "metadata": {},
   "outputs": [],
   "source": [
    "classifier_ann.compile(optimizer = 'adam', loss = 'binary_crossentropy', metrics = ['accuracy'])"
   ]
  },
  {
   "cell_type": "markdown",
   "metadata": {},
   "source": [
    "## 4. Fitting ANN to the data set"
   ]
  },
  {
   "cell_type": "code",
   "execution_count": 74,
   "metadata": {},
   "outputs": [
    {
     "name": "stdout",
     "output_type": "stream",
     "text": [
      "Epoch 1/100\n",
      "328/328 [==============================] - 0s 591us/step - loss: 0.6827 - acc: 0.8049\n",
      "Epoch 2/100\n",
      "328/328 [==============================] - 0s 236us/step - loss: 0.6434 - acc: 0.8171\n",
      "Epoch 3/100\n",
      "328/328 [==============================] - 0s 243us/step - loss: 0.5047 - acc: 0.8171\n",
      "Epoch 4/100\n",
      "328/328 [==============================] - 0s 237us/step - loss: 0.3512 - acc: 0.8171\n",
      "Epoch 5/100\n",
      "328/328 [==============================] - 0s 234us/step - loss: 0.3054 - acc: 0.8171\n",
      "Epoch 6/100\n",
      "328/328 [==============================] - 0s 222us/step - loss: 0.2916 - acc: 0.8567\n",
      "Epoch 7/100\n",
      "328/328 [==============================] - 0s 233us/step - loss: 0.2811 - acc: 0.9055\n",
      "Epoch 8/100\n",
      "328/328 [==============================] - 0s 234us/step - loss: 0.2732 - acc: 0.9024\n",
      "Epoch 9/100\n",
      "328/328 [==============================] - 0s 228us/step - loss: 0.2647 - acc: 0.9055\n",
      "Epoch 10/100\n",
      "328/328 [==============================] - 0s 228us/step - loss: 0.2602 - acc: 0.9085\n",
      "Epoch 11/100\n",
      "328/328 [==============================] - 0s 228us/step - loss: 0.2546 - acc: 0.9146\n",
      "Epoch 12/100\n",
      "328/328 [==============================] - 0s 232us/step - loss: 0.2527 - acc: 0.9085\n",
      "Epoch 13/100\n",
      "328/328 [==============================] - 0s 228us/step - loss: 0.2480 - acc: 0.9116\n",
      "Epoch 14/100\n",
      "328/328 [==============================] - 0s 219us/step - loss: 0.2476 - acc: 0.9116\n",
      "Epoch 15/100\n",
      "328/328 [==============================] - 0s 233us/step - loss: 0.2460 - acc: 0.9146\n",
      "Epoch 16/100\n",
      "328/328 [==============================] - 0s 245us/step - loss: 0.2432 - acc: 0.9146\n",
      "Epoch 17/100\n",
      "328/328 [==============================] - 0s 225us/step - loss: 0.2421 - acc: 0.9146\n",
      "Epoch 18/100\n",
      "328/328 [==============================] - 0s 230us/step - loss: 0.2398 - acc: 0.9146\n",
      "Epoch 19/100\n",
      "328/328 [==============================] - 0s 220us/step - loss: 0.2393 - acc: 0.9146\n",
      "Epoch 20/100\n",
      "328/328 [==============================] - 0s 227us/step - loss: 0.2376 - acc: 0.9146\n",
      "Epoch 21/100\n",
      "328/328 [==============================] - 0s 208us/step - loss: 0.2366 - acc: 0.9146\n",
      "Epoch 22/100\n",
      "328/328 [==============================] - 0s 228us/step - loss: 0.2354 - acc: 0.9146\n",
      "Epoch 23/100\n",
      "328/328 [==============================] - 0s 225us/step - loss: 0.2333 - acc: 0.9146\n",
      "Epoch 24/100\n",
      "328/328 [==============================] - 0s 232us/step - loss: 0.2309 - acc: 0.9146\n",
      "Epoch 25/100\n",
      "328/328 [==============================] - 0s 227us/step - loss: 0.2291 - acc: 0.9146\n",
      "Epoch 26/100\n",
      "328/328 [==============================] - 0s 224us/step - loss: 0.2256 - acc: 0.9207\n",
      "Epoch 27/100\n",
      "328/328 [==============================] - 0s 228us/step - loss: 0.2227 - acc: 0.9207\n",
      "Epoch 28/100\n",
      "328/328 [==============================] - 0s 216us/step - loss: 0.2215 - acc: 0.9207\n",
      "Epoch 29/100\n",
      "328/328 [==============================] - 0s 197us/step - loss: 0.2194 - acc: 0.9207\n",
      "Epoch 30/100\n",
      "328/328 [==============================] - 0s 202us/step - loss: 0.2164 - acc: 0.9268\n",
      "Epoch 31/100\n",
      "328/328 [==============================] - 0s 207us/step - loss: 0.2148 - acc: 0.9238\n",
      "Epoch 32/100\n",
      "328/328 [==============================] - 0s 233us/step - loss: 0.2125 - acc: 0.9299\n",
      "Epoch 33/100\n",
      "328/328 [==============================] - 0s 213us/step - loss: 0.2112 - acc: 0.9268\n",
      "Epoch 34/100\n",
      "328/328 [==============================] - 0s 214us/step - loss: 0.2088 - acc: 0.9329\n",
      "Epoch 35/100\n",
      "328/328 [==============================] - 0s 235us/step - loss: 0.2074 - acc: 0.9299\n",
      "Epoch 36/100\n",
      "328/328 [==============================] - 0s 222us/step - loss: 0.2062 - acc: 0.9329\n",
      "Epoch 37/100\n",
      "328/328 [==============================] - 0s 209us/step - loss: 0.2046 - acc: 0.9329\n",
      "Epoch 38/100\n",
      "328/328 [==============================] - 0s 210us/step - loss: 0.2030 - acc: 0.9329\n",
      "Epoch 39/100\n",
      "328/328 [==============================] - 0s 225us/step - loss: 0.2015 - acc: 0.9299\n",
      "Epoch 40/100\n",
      "328/328 [==============================] - 0s 229us/step - loss: 0.2009 - acc: 0.9299\n",
      "Epoch 41/100\n",
      "328/328 [==============================] - 0s 209us/step - loss: 0.2005 - acc: 0.9360\n",
      "Epoch 42/100\n",
      "328/328 [==============================] - 0s 200us/step - loss: 0.1967 - acc: 0.9360\n",
      "Epoch 43/100\n",
      "328/328 [==============================] - 0s 203us/step - loss: 0.1959 - acc: 0.9360\n",
      "Epoch 44/100\n",
      "328/328 [==============================] - 0s 204us/step - loss: 0.1934 - acc: 0.9360\n",
      "Epoch 45/100\n",
      "328/328 [==============================] - 0s 278us/step - loss: 0.1927 - acc: 0.9329\n",
      "Epoch 46/100\n",
      "328/328 [==============================] - 0s 242us/step - loss: 0.1906 - acc: 0.9390\n",
      "Epoch 47/100\n",
      "328/328 [==============================] - 0s 240us/step - loss: 0.1895 - acc: 0.9360\n",
      "Epoch 48/100\n",
      "328/328 [==============================] - 0s 241us/step - loss: 0.1878 - acc: 0.9390\n",
      "Epoch 49/100\n",
      "328/328 [==============================] - 0s 206us/step - loss: 0.1860 - acc: 0.9421\n",
      "Epoch 50/100\n",
      "328/328 [==============================] - 0s 199us/step - loss: 0.1859 - acc: 0.9390\n",
      "Epoch 51/100\n",
      "328/328 [==============================] - 0s 198us/step - loss: 0.1843 - acc: 0.9390\n",
      "Epoch 52/100\n",
      "328/328 [==============================] - 0s 195us/step - loss: 0.1828 - acc: 0.9421\n",
      "Epoch 53/100\n",
      "328/328 [==============================] - 0s 208us/step - loss: 0.1827 - acc: 0.9451\n",
      "Epoch 54/100\n",
      "328/328 [==============================] - 0s 202us/step - loss: 0.1805 - acc: 0.9360\n",
      "Epoch 55/100\n",
      "328/328 [==============================] - 0s 201us/step - loss: 0.1795 - acc: 0.9390\n",
      "Epoch 56/100\n",
      "328/328 [==============================] - 0s 210us/step - loss: 0.1793 - acc: 0.9421\n",
      "Epoch 57/100\n",
      "328/328 [==============================] - 0s 221us/step - loss: 0.1768 - acc: 0.9421\n",
      "Epoch 58/100\n",
      "328/328 [==============================] - 0s 210us/step - loss: 0.1765 - acc: 0.9421\n",
      "Epoch 59/100\n",
      "328/328 [==============================] - 0s 226us/step - loss: 0.1762 - acc: 0.9421\n",
      "Epoch 60/100\n",
      "328/328 [==============================] - 0s 219us/step - loss: 0.1757 - acc: 0.9421\n",
      "Epoch 61/100\n",
      "328/328 [==============================] - 0s 201us/step - loss: 0.1741 - acc: 0.9451\n",
      "Epoch 62/100\n",
      "328/328 [==============================] - 0s 199us/step - loss: 0.1737 - acc: 0.9482\n",
      "Epoch 63/100\n",
      "328/328 [==============================] - 0s 200us/step - loss: 0.1715 - acc: 0.9482\n",
      "Epoch 64/100\n",
      "328/328 [==============================] - 0s 200us/step - loss: 0.1720 - acc: 0.9451\n",
      "Epoch 65/100\n",
      "328/328 [==============================] - 0s 197us/step - loss: 0.1701 - acc: 0.9512\n",
      "Epoch 66/100\n",
      "328/328 [==============================] - 0s 203us/step - loss: 0.1694 - acc: 0.9451\n",
      "Epoch 67/100\n",
      "328/328 [==============================] - 0s 207us/step - loss: 0.1690 - acc: 0.9451\n",
      "Epoch 68/100\n",
      "328/328 [==============================] - 0s 203us/step - loss: 0.1689 - acc: 0.9543\n",
      "Epoch 69/100\n",
      "328/328 [==============================] - 0s 204us/step - loss: 0.1677 - acc: 0.9482\n",
      "Epoch 70/100\n",
      "328/328 [==============================] - 0s 202us/step - loss: 0.1658 - acc: 0.9543\n",
      "Epoch 71/100\n",
      "328/328 [==============================] - 0s 210us/step - loss: 0.1665 - acc: 0.9512\n",
      "Epoch 72/100\n",
      "328/328 [==============================] - 0s 203us/step - loss: 0.1656 - acc: 0.9482\n",
      "Epoch 73/100\n",
      "328/328 [==============================] - 0s 202us/step - loss: 0.1645 - acc: 0.9543\n",
      "Epoch 74/100\n",
      "328/328 [==============================] - 0s 300us/step - loss: 0.1657 - acc: 0.9482\n",
      "Epoch 75/100\n",
      "328/328 [==============================] - 0s 245us/step - loss: 0.1641 - acc: 0.9482\n",
      "Epoch 76/100\n",
      "328/328 [==============================] - 0s 250us/step - loss: 0.1631 - acc: 0.9543\n",
      "Epoch 77/100\n",
      "328/328 [==============================] - 0s 242us/step - loss: 0.1620 - acc: 0.9512\n",
      "Epoch 78/100\n",
      "328/328 [==============================] - 0s 203us/step - loss: 0.1620 - acc: 0.9512\n",
      "Epoch 79/100\n",
      "328/328 [==============================] - 0s 201us/step - loss: 0.1618 - acc: 0.9543\n",
      "Epoch 80/100\n",
      "328/328 [==============================] - 0s 203us/step - loss: 0.1614 - acc: 0.9512\n",
      "Epoch 81/100\n",
      "328/328 [==============================] - 0s 202us/step - loss: 0.1598 - acc: 0.9543\n",
      "Epoch 82/100\n",
      "328/328 [==============================] - 0s 213us/step - loss: 0.1604 - acc: 0.9512\n",
      "Epoch 83/100\n"
     ]
    },
    {
     "name": "stdout",
     "output_type": "stream",
     "text": [
      "328/328 [==============================] - 0s 259us/step - loss: 0.1593 - acc: 0.9543\n",
      "Epoch 84/100\n",
      "328/328 [==============================] - 0s 193us/step - loss: 0.1583 - acc: 0.9512\n",
      "Epoch 85/100\n",
      "328/328 [==============================] - 0s 193us/step - loss: 0.1596 - acc: 0.9512\n",
      "Epoch 86/100\n",
      "328/328 [==============================] - 0s 194us/step - loss: 0.1580 - acc: 0.9543\n",
      "Epoch 87/100\n",
      "328/328 [==============================] - 0s 198us/step - loss: 0.1568 - acc: 0.9543\n",
      "Epoch 88/100\n",
      "328/328 [==============================] - 0s 203us/step - loss: 0.1569 - acc: 0.9543\n",
      "Epoch 89/100\n",
      "328/328 [==============================] - 0s 207us/step - loss: 0.1557 - acc: 0.9543\n",
      "Epoch 90/100\n",
      "328/328 [==============================] - 0s 215us/step - loss: 0.1555 - acc: 0.9512\n",
      "Epoch 91/100\n",
      "328/328 [==============================] - 0s 224us/step - loss: 0.1557 - acc: 0.9543\n",
      "Epoch 92/100\n",
      "328/328 [==============================] - 0s 228us/step - loss: 0.1549 - acc: 0.9543\n",
      "Epoch 93/100\n",
      "328/328 [==============================] - 0s 210us/step - loss: 0.1537 - acc: 0.9543\n",
      "Epoch 94/100\n",
      "328/328 [==============================] - 0s 212us/step - loss: 0.1535 - acc: 0.9512\n",
      "Epoch 95/100\n",
      "328/328 [==============================] - 0s 207us/step - loss: 0.1533 - acc: 0.9543\n",
      "Epoch 96/100\n",
      "328/328 [==============================] - 0s 203us/step - loss: 0.1533 - acc: 0.9543\n",
      "Epoch 97/100\n",
      "328/328 [==============================] - 0s 211us/step - loss: 0.1522 - acc: 0.9543\n",
      "Epoch 98/100\n",
      "328/328 [==============================] - 0s 204us/step - loss: 0.1525 - acc: 0.9543\n",
      "Epoch 99/100\n",
      "328/328 [==============================] - 0s 207us/step - loss: 0.1523 - acc: 0.9543\n",
      "Epoch 100/100\n",
      "328/328 [==============================] - 0s 206us/step - loss: 0.1523 - acc: 0.9543\n"
     ]
    },
    {
     "data": {
      "text/plain": [
       "<keras.callbacks.History at 0x1a244b2550>"
      ]
     },
     "execution_count": 74,
     "metadata": {},
     "output_type": "execute_result"
    }
   ],
   "source": [
    "# Fitting the ANN to the Training set\n",
    "classifier_ann.fit(X_train, y_train, batch_size = 5, epochs = 100)"
   ]
  },
  {
   "cell_type": "markdown",
   "metadata": {},
   "source": [
    "## 5. Predicting the Oscars with ANN"
   ]
  },
  {
   "cell_type": "code",
   "execution_count": 75,
   "metadata": {},
   "outputs": [
    {
     "data": {
      "text/html": [
       "<div>\n",
       "<style scoped>\n",
       "    .dataframe tbody tr th:only-of-type {\n",
       "        vertical-align: middle;\n",
       "    }\n",
       "\n",
       "    .dataframe tbody tr th {\n",
       "        vertical-align: top;\n",
       "    }\n",
       "\n",
       "    .dataframe thead th {\n",
       "        text-align: right;\n",
       "    }\n",
       "</style>\n",
       "<table border=\"1\" class=\"dataframe\">\n",
       "  <thead>\n",
       "    <tr style=\"text-align: right;\">\n",
       "      <th></th>\n",
       "      <th>0</th>\n",
       "    </tr>\n",
       "  </thead>\n",
       "  <tbody>\n",
       "    <tr>\n",
       "      <th>73</th>\n",
       "      <td>0.0</td>\n",
       "    </tr>\n",
       "    <tr>\n",
       "      <th>74</th>\n",
       "      <td>0.0</td>\n",
       "    </tr>\n",
       "    <tr>\n",
       "      <th>75</th>\n",
       "      <td>0.0</td>\n",
       "    </tr>\n",
       "    <tr>\n",
       "      <th>76</th>\n",
       "      <td>0.0</td>\n",
       "    </tr>\n",
       "    <tr>\n",
       "      <th>77</th>\n",
       "      <td>0.0</td>\n",
       "    </tr>\n",
       "    <tr>\n",
       "      <th>78</th>\n",
       "      <td>0.0</td>\n",
       "    </tr>\n",
       "    <tr>\n",
       "      <th>79</th>\n",
       "      <td>0.0</td>\n",
       "    </tr>\n",
       "    <tr>\n",
       "      <th>80</th>\n",
       "      <td>0.0</td>\n",
       "    </tr>\n",
       "    <tr>\n",
       "      <th>81</th>\n",
       "      <td>0.0</td>\n",
       "    </tr>\n",
       "    <tr>\n",
       "      <th>82</th>\n",
       "      <td>0.0</td>\n",
       "    </tr>\n",
       "  </tbody>\n",
       "</table>\n",
       "</div>"
      ],
      "text/plain": [
       "      0\n",
       "73  0.0\n",
       "74  0.0\n",
       "75  0.0\n",
       "76  0.0\n",
       "77  0.0\n",
       "78  0.0\n",
       "79  0.0\n",
       "80  0.0\n",
       "81  0.0\n",
       "82  0.0"
      ]
     },
     "execution_count": 75,
     "metadata": {},
     "output_type": "execute_result"
    }
   ],
   "source": [
    "# Predicting the Test set results\n",
    "y_pred_ann = classifier_ann.predict(X_test)\n",
    "rounded = [round(x[0]) for x in y_pred_ann]\n",
    "y_pred_ann = pd.DataFrame(rounded)\n",
    "y_pred_ann.tail(10)"
   ]
  },
  {
   "cell_type": "code",
   "execution_count": 76,
   "metadata": {},
   "outputs": [
    {
     "data": {
      "text/html": [
       "<div>\n",
       "<style scoped>\n",
       "    .dataframe tbody tr th:only-of-type {\n",
       "        vertical-align: middle;\n",
       "    }\n",
       "\n",
       "    .dataframe tbody tr th {\n",
       "        vertical-align: top;\n",
       "    }\n",
       "\n",
       "    .dataframe thead th {\n",
       "        text-align: right;\n",
       "    }\n",
       "</style>\n",
       "<table border=\"1\" class=\"dataframe\">\n",
       "  <thead>\n",
       "    <tr style=\"text-align: right;\">\n",
       "      <th></th>\n",
       "      <th>0</th>\n",
       "    </tr>\n",
       "  </thead>\n",
       "  <tbody>\n",
       "    <tr>\n",
       "      <th>73</th>\n",
       "      <td>0</td>\n",
       "    </tr>\n",
       "    <tr>\n",
       "      <th>74</th>\n",
       "      <td>0</td>\n",
       "    </tr>\n",
       "    <tr>\n",
       "      <th>75</th>\n",
       "      <td>0</td>\n",
       "    </tr>\n",
       "    <tr>\n",
       "      <th>76</th>\n",
       "      <td>0</td>\n",
       "    </tr>\n",
       "    <tr>\n",
       "      <th>77</th>\n",
       "      <td>1</td>\n",
       "    </tr>\n",
       "    <tr>\n",
       "      <th>78</th>\n",
       "      <td>0</td>\n",
       "    </tr>\n",
       "    <tr>\n",
       "      <th>79</th>\n",
       "      <td>0</td>\n",
       "    </tr>\n",
       "    <tr>\n",
       "      <th>80</th>\n",
       "      <td>1</td>\n",
       "    </tr>\n",
       "    <tr>\n",
       "      <th>81</th>\n",
       "      <td>0</td>\n",
       "    </tr>\n",
       "    <tr>\n",
       "      <th>82</th>\n",
       "      <td>0</td>\n",
       "    </tr>\n",
       "  </tbody>\n",
       "</table>\n",
       "</div>"
      ],
      "text/plain": [
       "    0\n",
       "73  0\n",
       "74  0\n",
       "75  0\n",
       "76  0\n",
       "77  1\n",
       "78  0\n",
       "79  0\n",
       "80  1\n",
       "81  0\n",
       "82  0"
      ]
     },
     "execution_count": 76,
     "metadata": {},
     "output_type": "execute_result"
    }
   ],
   "source": [
    "y_test = pd.DataFrame(y_test)\n",
    "y_test.tail(10)"
   ]
  },
  {
   "cell_type": "code",
   "execution_count": 77,
   "metadata": {},
   "outputs": [],
   "source": [
    "test_features = dataset[feature_list].values\n",
    "\n",
    "# pred_forest = classifier_rf.predict_proba(test_features)\n",
    "movie_name = np.array(dataset['title'])\n",
    "year = np.array(dataset['year'])\n",
    "won_oscar = np.array(dataset['won_oscar'])"
   ]
  },
  {
   "cell_type": "code",
   "execution_count": 78,
   "metadata": {},
   "outputs": [],
   "source": [
    "# calculate predictions\n",
    "predictions_ann = classifier_ann.predict_proba(test_features)\n",
    "# round predictions\n",
    "rounded = [round(x[0]) for x in predictions_ann]"
   ]
  },
  {
   "cell_type": "code",
   "execution_count": 79,
   "metadata": {},
   "outputs": [],
   "source": [
    "predictions_ann = pd.DataFrame(rounded,movie_name,columns =[\"Probability\"] )\n",
    "predictions_ann[\"Year\"] = year \n",
    "predictions_ann[\"Won Oscar\"] = won_oscar"
   ]
  },
  {
   "cell_type": "code",
   "execution_count": 80,
   "metadata": {},
   "outputs": [
    {
     "data": {
      "text/html": [
       "<div>\n",
       "<style scoped>\n",
       "    .dataframe tbody tr th:only-of-type {\n",
       "        vertical-align: middle;\n",
       "    }\n",
       "\n",
       "    .dataframe tbody tr th {\n",
       "        vertical-align: top;\n",
       "    }\n",
       "\n",
       "    .dataframe thead th {\n",
       "        text-align: right;\n",
       "    }\n",
       "</style>\n",
       "<table border=\"1\" class=\"dataframe\">\n",
       "  <thead>\n",
       "    <tr style=\"text-align: right;\">\n",
       "      <th></th>\n",
       "      <th>Probability</th>\n",
       "      <th>Year</th>\n",
       "      <th>Won Oscar</th>\n",
       "    </tr>\n",
       "  </thead>\n",
       "  <tbody>\n",
       "    <tr>\n",
       "      <th>The Shape of Water</th>\n",
       "      <td>0.0</td>\n",
       "      <td>2017</td>\n",
       "      <td>1</td>\n",
       "    </tr>\n",
       "    <tr>\n",
       "      <th>Three Billboards Outside Ebbing, Missouri</th>\n",
       "      <td>0.0</td>\n",
       "      <td>2017</td>\n",
       "      <td>0</td>\n",
       "    </tr>\n",
       "    <tr>\n",
       "      <th>Black Panther</th>\n",
       "      <td>0.0</td>\n",
       "      <td>2018</td>\n",
       "      <td>0</td>\n",
       "    </tr>\n",
       "    <tr>\n",
       "      <th>BlacKkKlansman</th>\n",
       "      <td>0.0</td>\n",
       "      <td>2018</td>\n",
       "      <td>0</td>\n",
       "    </tr>\n",
       "    <tr>\n",
       "      <th>Bohemian Rhapsody</th>\n",
       "      <td>0.0</td>\n",
       "      <td>2018</td>\n",
       "      <td>0</td>\n",
       "    </tr>\n",
       "    <tr>\n",
       "      <th>The Favourite</th>\n",
       "      <td>0.0</td>\n",
       "      <td>2018</td>\n",
       "      <td>0</td>\n",
       "    </tr>\n",
       "    <tr>\n",
       "      <th>Green Book</th>\n",
       "      <td>0.0</td>\n",
       "      <td>2018</td>\n",
       "      <td>1</td>\n",
       "    </tr>\n",
       "    <tr>\n",
       "      <th>Roma</th>\n",
       "      <td>0.0</td>\n",
       "      <td>2018</td>\n",
       "      <td>0</td>\n",
       "    </tr>\n",
       "    <tr>\n",
       "      <th>A Star Is Born</th>\n",
       "      <td>0.0</td>\n",
       "      <td>2018</td>\n",
       "      <td>0</td>\n",
       "    </tr>\n",
       "    <tr>\n",
       "      <th>Vice</th>\n",
       "      <td>0.0</td>\n",
       "      <td>2018</td>\n",
       "      <td>0</td>\n",
       "    </tr>\n",
       "  </tbody>\n",
       "</table>\n",
       "</div>"
      ],
      "text/plain": [
       "                                           Probability  Year  Won Oscar\n",
       "The Shape of Water                                 0.0  2017          1\n",
       "Three Billboards Outside Ebbing, Missouri          0.0  2017          0\n",
       "Black Panther                                      0.0  2018          0\n",
       "BlacKkKlansman                                     0.0  2018          0\n",
       "Bohemian Rhapsody                                  0.0  2018          0\n",
       "The Favourite                                      0.0  2018          0\n",
       "Green Book                                         0.0  2018          1\n",
       "Roma                                               0.0  2018          0\n",
       "A Star Is Born                                     0.0  2018          0\n",
       "Vice                                               0.0  2018          0"
      ]
     },
     "execution_count": 80,
     "metadata": {},
     "output_type": "execute_result"
    }
   ],
   "source": [
    "predictions_ann.tail(10)"
   ]
  },
  {
   "cell_type": "markdown",
   "metadata": {},
   "source": [
    "## 6. Assess ANN Performance"
   ]
  },
  {
   "cell_type": "code",
   "execution_count": 81,
   "metadata": {},
   "outputs": [
    {
     "name": "stdout",
     "output_type": "stream",
     "text": [
      "83/83 [==============================] - 0s 241us/step\n",
      "Test loss: 0.38960998819535037\n",
      "Test accuracy: 0.8795180686985153\n"
     ]
    }
   ],
   "source": [
    "# Score trained model.\n",
    "scores = classifier_ann.evaluate(X_test, y_test)\n",
    "print('Test loss:', scores[0])\n",
    "print('Test accuracy:', scores[1])"
   ]
  },
  {
   "cell_type": "markdown",
   "metadata": {},
   "source": [
    "## Conclusion"
   ]
  },
  {
   "cell_type": "markdown",
   "metadata": {},
   "source": [
    "<b>The ANN doesn't work well with our Oscar prediction model as the accuracy is lower than the Random Forest model and it did not do so well in predicting the Oscars.We might have to still try to work on optimizing our ANN model to predict the Oscars.Hence we stick with Random Forest being our favorite to predict the Oscars.\n",
    "\n",
    "                                        Random forests for the win\n",
    "    All in all we predicted pretty good results with training the machine from data all the way from 1944\n",
    "</b>"
   ]
  },
  {
   "cell_type": "markdown",
   "metadata": {},
   "source": [
    "<center>\n",
    "    <img src =source.gif width = 600 />\n",
    "    *It was all worth it...*\n",
    "</center>"
   ]
  }
 ],
 "metadata": {
  "hide_code_all_hidden": false,
  "kernelspec": {
   "display_name": "Python 3",
   "language": "python",
   "name": "python3"
  },
  "language_info": {
   "codemirror_mode": {
    "name": "ipython",
    "version": 3
   },
   "file_extension": ".py",
   "mimetype": "text/x-python",
   "name": "python",
   "nbconvert_exporter": "python",
   "pygments_lexer": "ipython3",
   "version": "3.6.8"
  }
 },
 "nbformat": 4,
 "nbformat_minor": 2
}
